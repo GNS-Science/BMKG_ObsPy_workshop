{
 "cells": [
  {
   "cell_type": "markdown",
   "id": "aff17937",
   "metadata": {},
   "source": [
    "<div style='background-image: url(\"../share/images/header.svg\") ; padding: 0px ; background-size: cover ; border-radius: 5px ; height: 250px'>\n",
    "    <div style=\"float: right ; margin: 50px ; padding: 20px ; background: rgba(255 , 255 , 255 , 0.7) ; width: 50% ; height: 150px\">\n",
    "        <div style=\"position: relative ; top: 50% ; transform: translatey(-50%)\">\n",
    "            <div style=\"font-size: xx-large ; font-weight: 900 ; color: rgba(0 , 0 , 0 , 0.8) ; line-height: 100%\">ObsPy Tutorial</div>\n",
    "            <div style=\"font-size: large ; padding-top: 20px ; color: rgba(0 , 0 , 0 , 0.5)\">Handling Waveform Data</div>\n",
    "        </div>\n",
    "    </div>\n",
    "</div>"
   ]
  },
  {
   "cell_type": "markdown",
   "id": "bd51ff6c",
   "metadata": {},
   "source": [
    "Seismo-Live: http://seismo-live.org\n",
    "\n",
    "##### Authors:\n",
    "* Tobias Megies ([@megies](https://github.com/megies))\n",
    "* Lion Krischer ([@krischer](https://github.com/krischer))\n",
    "---"
   ]
  },
  {
   "cell_type": "markdown",
   "id": "4484744d",
   "metadata": {},
   "source": [
    "![](images/obspy_logo_full_524x179px.png)"
   ]
  },
  {
   "cell_type": "code",
   "execution_count": null,
   "id": "8ba5a914",
   "metadata": {},
   "outputs": [],
   "source": [
    "%matplotlib inline\n",
    "import matplotlib.pyplot as plt\n",
    "plt.style.use('ggplot')\n",
    "plt.rcParams['figure.figsize'] = 12, 8"
   ]
  },
  {
   "cell_type": "markdown",
   "id": "7edb96cc",
   "metadata": {},
   "source": [
    "<img src=\"images/Stream_Trace.svg\" width=90%>\n",
    "\n",
    "* read waveform data is returned as a **`Stream`** object."
   ]
  },
  {
   "cell_type": "code",
   "execution_count": null,
   "id": "31a44b3b",
   "metadata": {},
   "outputs": [],
   "source": [
    "from obspy import read\n",
    "st = read(\"./data/waveform_PFO.mseed\", format=\"mseed\")\n",
    "print(st)"
   ]
  },
  {
   "cell_type": "markdown",
   "id": "094899be",
   "metadata": {},
   "source": [
    "- UNIX wildcards can be used to read multiple files simultaneously\n",
    "- automatic file format detection, no need to worry about file formats\n",
    "\n",
    "  - currently supported: **mseed, sac, segy, seg2, gse1/2, seisan, sh, datamark, css, wav, y, Q (keeps growing...)**\n",
    "  - more file formats are included whenever a basic reading routine is provided (or e.g. sufficient documentation on data compression etc.)\n",
    "  - custom user-specific file formats can be added (through plugin) to filetype autodiscovery in local ObsPy installation by user"
   ]
  },
  {
   "cell_type": "code",
   "execution_count": null,
   "id": "594cfb34",
   "metadata": {},
   "outputs": [],
   "source": [
    "from obspy import read\n",
    "st = read(\"./data/waveform_*\")\n",
    "print(st)"
   ]
  },
  {
   "cell_type": "markdown",
   "id": "d873ea3b",
   "metadata": {},
   "source": [
    "- for MiniSEED files, only reading short portions of files without all of the file getting read into memory is supported (saves time and memory when working on large collections of big files)"
   ]
  },
  {
   "cell_type": "code",
   "execution_count": null,
   "id": "9b680308",
   "metadata": {},
   "outputs": [],
   "source": [
    "from obspy import UTCDateTime\n",
    "\n",
    "t = UTCDateTime(\"2011-03-11T05:46:23.015400Z\")\n",
    "st = read(\"./data/waveform_*\", starttime=t + 10 * 60, endtime=t + 12 * 60)\n",
    "print(st)"
   ]
  },
  {
   "cell_type": "markdown",
   "id": "31674f2f",
   "metadata": {},
   "source": [
    "#### The Stream Object\n",
    "\n",
    " - A Stream object is a collection of Trace objects"
   ]
  },
  {
   "cell_type": "code",
   "execution_count": null,
   "id": "c7c3e8b5",
   "metadata": {},
   "outputs": [],
   "source": [
    "from obspy import read\n",
    "st = read(\"./data/waveform_PFO.mseed\")\n",
    "print(type(st))"
   ]
  },
  {
   "cell_type": "code",
   "execution_count": null,
   "id": "15ab2797",
   "metadata": {},
   "outputs": [],
   "source": [
    "print(st)"
   ]
  },
  {
   "cell_type": "code",
   "execution_count": null,
   "id": "c30b8c35",
   "metadata": {},
   "outputs": [],
   "source": [
    "print(st.traces)"
   ]
  },
  {
   "cell_type": "code",
   "execution_count": null,
   "id": "7b825820",
   "metadata": {},
   "outputs": [],
   "source": [
    "print(st[0])"
   ]
  },
  {
   "cell_type": "markdown",
   "id": "475acc92",
   "metadata": {},
   "source": [
    "- More traces can be assembled using **`+`** operator (or using the `.append()` and `.extend()` methods)"
   ]
  },
  {
   "cell_type": "code",
   "execution_count": null,
   "id": "3cf64b35",
   "metadata": {},
   "outputs": [],
   "source": [
    "st1 = read(\"./data/waveform_PFO.mseed\")\n",
    "st2 = read(\"./data/waveform_PFO_synthetics.mseed\")\n",
    "\n",
    "st = st1 + st2\n",
    "print(st)\n",
    "\n",
    "st3 = read(\"./data/waveform_BFO_BHE.sac\")\n",
    "\n",
    "st += st3\n",
    "print(st)"
   ]
  },
  {
   "cell_type": "markdown",
   "id": "2166e142",
   "metadata": {},
   "source": [
    " - convenient (and nicely readable) looping over traces"
   ]
  },
  {
   "cell_type": "code",
   "execution_count": null,
   "id": "83ba45a8",
   "metadata": {},
   "outputs": [],
   "source": [
    "for tr in st:\n",
    "    print(tr.id)"
   ]
  },
  {
   "cell_type": "markdown",
   "id": "a98a7071",
   "metadata": {},
   "source": [
    " - Stream is useful for applying the same processing to a larger number of different waveforms or to group Traces for processing (e.g. three components of one station in one Stream)"
   ]
  },
  {
   "cell_type": "markdown",
   "id": "c4bc1948",
   "metadata": {},
   "source": [
    "#### The Trace Object\n",
    "\n",
    "- a Trace object is a single, contiguous waveform data block (i.e. regularly spaced time series, no gaps)\n",
    "- a Trace object contains a limited amount of metadata in a dictionary-like object (as **`Trace.stats`**) that fully describes the time series by specifying..\n",
    "  * recording location/instrument (network, station, location and channel code)\n",
    "  * start time\n",
    "  * sampling rate"
   ]
  },
  {
   "cell_type": "code",
   "execution_count": null,
   "id": "18a3020e",
   "metadata": {},
   "outputs": [],
   "source": [
    "st = read(\"./data/waveform_PFO.mseed\")\n",
    "tr = st[0]  # get the first Trace in the Stream\n",
    "print(tr)"
   ]
  },
  {
   "cell_type": "code",
   "execution_count": null,
   "id": "62a6cfa3",
   "metadata": {},
   "outputs": [],
   "source": [
    "print(tr.stats)"
   ]
  },
  {
   "cell_type": "markdown",
   "id": "1dd085c2",
   "metadata": {},
   "source": [
    "- For custom applications it is sometimes necessary to directly manipulate the metadata of a Trace.\n",
    "- The metadata of the Trace will **stay consistent**, as all values are derived from the starttime, the data and the sampling rate and are **updated automatically**"
   ]
  },
  {
   "cell_type": "code",
   "execution_count": null,
   "id": "242d020c",
   "metadata": {},
   "outputs": [],
   "source": [
    "print(tr.stats.delta, \"|\", tr.stats.endtime)"
   ]
  },
  {
   "cell_type": "code",
   "execution_count": null,
   "id": "a1e0cf3b",
   "metadata": {},
   "outputs": [],
   "source": [
    "tr.stats.sampling_rate = 5.0\n",
    "print(tr.stats.delta, \"|\", tr.stats.endtime)"
   ]
  },
  {
   "cell_type": "code",
   "execution_count": null,
   "id": "ba787396",
   "metadata": {},
   "outputs": [],
   "source": [
    "print(tr.stats.npts)"
   ]
  },
  {
   "cell_type": "code",
   "execution_count": null,
   "id": "80c35f21",
   "metadata": {},
   "outputs": [],
   "source": [
    "tr.data = tr.data[:100]\n",
    "print(tr.stats.npts, \"|\", tr.stats.endtime)"
   ]
  },
  {
   "cell_type": "markdown",
   "id": "caad9306",
   "metadata": {},
   "source": [
    "- convenience methods make basic manipulations simple"
   ]
  },
  {
   "cell_type": "code",
   "execution_count": null,
   "id": "e1d20050",
   "metadata": {},
   "outputs": [],
   "source": [
    "tr = read(\"./data/waveform_PFO.mseed\")[0]\n",
    "tr.plot()"
   ]
  },
  {
   "cell_type": "code",
   "execution_count": null,
   "id": "c2b4fb15",
   "metadata": {},
   "outputs": [],
   "source": [
    "print(tr)\n",
    "tr.resample(sampling_rate=100.0)\n",
    "print(tr)"
   ]
  },
  {
   "cell_type": "code",
   "execution_count": null,
   "id": "7b65e03d",
   "metadata": {},
   "outputs": [],
   "source": [
    "print(tr)\n",
    "tr.trim(tr.stats.starttime + 12 * 60, tr.stats.starttime + 14 * 60)\n",
    "print(tr)\n",
    "tr.plot()"
   ]
  },
  {
   "cell_type": "code",
   "execution_count": null,
   "id": "189b87fa",
   "metadata": {},
   "outputs": [],
   "source": [
    "tr.detrend(\"linear\")\n",
    "tr.taper(max_percentage=0.05, type='cosine')\n",
    "tr.filter(\"lowpass\", freq=0.1)\n",
    "tr.plot()"
   ]
  },
  {
   "cell_type": "code",
   "execution_count": null,
   "id": "757eba2d",
   "metadata": {
    "comment_questions": false
   },
   "outputs": [],
   "source": [
    "# try tr.<Tab> for other methods defined for Trace\n",
    "tr.detrend?"
   ]
  },
  {
   "cell_type": "markdown",
   "id": "823bcbac",
   "metadata": {},
   "source": [
    "- Raw data available as a [**`numpy.ndarray`**](http://docs.scipy.org/doc/numpy/reference/generated/numpy.ndarray.html) (as **`Trace.data`**)"
   ]
  },
  {
   "cell_type": "code",
   "execution_count": null,
   "id": "55a6e25a",
   "metadata": {},
   "outputs": [],
   "source": [
    "print(tr.data[:20])"
   ]
  },
  {
   "cell_type": "markdown",
   "id": "b24fefe6",
   "metadata": {},
   "source": [
    "- Data can be directly modified e.g. ..\n",
    "\n",
    "..by doing arithmetic operations (fast, handled in C by NumPy)"
   ]
  },
  {
   "cell_type": "code",
   "execution_count": null,
   "id": "9003f4ff",
   "metadata": {},
   "outputs": [],
   "source": [
    "print(tr.data ** 2 + 0.5)"
   ]
  },
  {
   "cell_type": "markdown",
   "id": "7f39c18c",
   "metadata": {},
   "source": [
    "..by using [**`numpy.ndarray`** builtin methods](http://docs.scipy.org/doc/numpy/reference/generated/numpy.ndarray.html) (also done in C by NumPy)"
   ]
  },
  {
   "cell_type": "code",
   "execution_count": null,
   "id": "b653c151",
   "metadata": {},
   "outputs": [],
   "source": [
    "print(tr.data.max())\n",
    "print(tr.data.mean())\n",
    "print(tr.data.ptp())\n",
    "# try tr.data.<Tab> for a list of numpy methods defined on ndarray"
   ]
  },
  {
   "cell_type": "markdown",
   "id": "38b74f8f",
   "metadata": {},
   "source": [
    "..by using **`numpy`** functions (also done in C by NumPy)"
   ]
  },
  {
   "cell_type": "code",
   "execution_count": null,
   "id": "4e1af379",
   "metadata": {},
   "outputs": [],
   "source": [
    "import numpy as np\n",
    "print(np.abs(tr.data))\n",
    "# you can try np.<Tab> but there is a lot in there\n",
    "# try np.a<Tab>"
   ]
  },
  {
   "cell_type": "markdown",
   "id": "658a01c5",
   "metadata": {},
   "source": [
    "..by feeding pointers to existing C/Fortran routines from inside Python!\n",
    "\n",
    "This is done internally in several places, e.g. for cross correlations, beamforming or in third-party filetype libraries like e.g. libmseed.\n",
    "\n",
    "- Trace objects can also be manually generated with data in a [**`numpy.ndarray`**](http://docs.scipy.org/doc/numpy/reference/generated/numpy.ndarray.html) (e.g. when needing to parse waveforms from non-standard ascii files)"
   ]
  },
  {
   "cell_type": "code",
   "execution_count": null,
   "id": "93837f72",
   "metadata": {},
   "outputs": [],
   "source": [
    "from obspy import Trace\n",
    "\n",
    "x = np.random.randint(-100, 100, 500)\n",
    "tr = Trace(data=x)\n",
    "tr.stats.station = \"XYZ\"\n",
    "tr.stats.starttime = UTCDateTime()\n",
    "\n",
    "tr.plot()"
   ]
  },
  {
   "cell_type": "markdown",
   "id": "b2f73196",
   "metadata": {},
   "source": [
    "- Stream objects can be assembled from manually generated Traces"
   ]
  },
  {
   "cell_type": "code",
   "execution_count": null,
   "id": "49664575",
   "metadata": {},
   "outputs": [],
   "source": [
    "from obspy import Stream\n",
    "\n",
    "tr2 = Trace(data=np.random.randint(-300, 100, 1000))\n",
    "tr2.stats.starttime = UTCDateTime()\n",
    "tr2.stats.sampling_rate = 10.0\n",
    "st = Stream([tr, tr2])\n",
    "\n",
    "st.plot()"
   ]
  },
  {
   "cell_type": "markdown",
   "id": "d92489f7",
   "metadata": {},
   "source": [
    "#### Builtin methods defined on **`Stream`** / **`Trace`**\n",
    "\n",
    "- Most methods that work on a Trace object also work on a Stream object. They are simply executed for every trace. [See ObsPy documentation for an overview of available methods](http://docs.obspy.org/packages/autogen/obspy.core.stream.Stream.html) (or try **`st.<Tab>`**).\n",
    " - **`st.filter()`** - Filter all attached traces.\n",
    " - **`st.trim()`** - Cut all traces.\n",
    " - **`st.resample()`** / **`st.decimate()`** - Change the sampling rate.\n",
    " - **`st.trigger()`** - Run triggering algorithms.\n",
    " - **`st.plot()`** / **`st.spectrogram()`** - Visualize the data.\n",
    " - **`st.attach_response()`**/**`st.remove_response()`**, **`st.simulate()`** - Instrument correction\n",
    " - **`st.merge()`**, **`st.normalize()`**, **`st.detrend()`**, **`st.taper()`**, ...\n",
    "- A **`Stream`** object can also be exported to many formats, so ObsPy can be used to convert between different file formats."
   ]
  },
  {
   "cell_type": "code",
   "execution_count": null,
   "id": "1b08dd5a",
   "metadata": {},
   "outputs": [],
   "source": [
    "st = read(\"./data/waveform_*.sac\")\n",
    "st.write(\"output_file.mseed\", format=\"MSEED\")\n",
    "!ls -l output_file*"
   ]
  },
  {
   "cell_type": "markdown",
   "id": "158b354c",
   "metadata": {},
   "source": [
    "<img src=\"images/Stream_Trace.svg\" width=90%>"
   ]
  },
  {
   "cell_type": "markdown",
   "id": "fea91a1c",
   "metadata": {},
   "source": [
    "#### Trace Exercises\n",
    " - Make an **`numpy.ndarray`** with zeros and (e.g. use **`numpy.zeros()`**) and put an ideal pulse somewhere in it\n",
    " - initialize a **`Trace`** object with your data array\n",
    " - Fill in some station information (e.g. network, station, ..)\n",
    " - Print trace summary and plot the trace\n",
    " - Change the sampling rate to 20 Hz\n",
    " - Change the starttime of the trace to the start time of this session\n",
    " - Print the trace summary and plot the trace again"
   ]
  },
  {
   "cell_type": "code",
   "execution_count": null,
   "id": "3f5a8005",
   "metadata": {
    "lines_to_next_cell": 2,
    "tags": [
     "exercise"
    ]
   },
   "outputs": [],
   "source": []
  },
  {
   "cell_type": "code",
   "execution_count": null,
   "id": "e5ff5696",
   "metadata": {
    "tags": [
     "solution"
    ]
   },
   "outputs": [],
   "source": [
    "x = np.zeros(300)\n",
    "x[100] = 1.0\n",
    "tr = Trace(data=x)\n",
    "tr.stats.station = \"ABC\"\n",
    "tr.stats.sampling_rate = 20.0\n",
    "tr.stats.starttime = UTCDateTime(2014, 2, 24, 15, 0, 0)\n",
    "print(tr)\n",
    "tr.plot()"
   ]
  },
  {
   "cell_type": "markdown",
   "id": "fef949b2",
   "metadata": {},
   "source": [
    "- Use **`tr.filter(...)`** and apply a lowpass filter with a corner frequency of 1 Hertz.\n",
    "- Display the preview plot, there are a few seconds of zeros that we can cut off."
   ]
  },
  {
   "cell_type": "code",
   "execution_count": null,
   "id": "84cb3e7a",
   "metadata": {
    "lines_to_next_cell": 2,
    "tags": [
     "exercise"
    ]
   },
   "outputs": [],
   "source": []
  },
  {
   "cell_type": "code",
   "execution_count": null,
   "id": "10a47840",
   "metadata": {
    "tags": [
     "solution"
    ]
   },
   "outputs": [],
   "source": [
    "tr.filter(\"lowpass\", freq=1)\n",
    "tr.plot()"
   ]
  },
  {
   "cell_type": "markdown",
   "id": "cdb349f1",
   "metadata": {},
   "source": [
    "- Use **`tr.trim(...)`** to remove some of the zeros at start and at the end\n",
    "- show the preview plot again"
   ]
  },
  {
   "cell_type": "code",
   "execution_count": null,
   "id": "96142215",
   "metadata": {
    "lines_to_next_cell": 2,
    "tags": [
     "exercise"
    ]
   },
   "outputs": [],
   "source": []
  },
  {
   "cell_type": "code",
   "execution_count": null,
   "id": "ad4dea27",
   "metadata": {
    "tags": [
     "solution"
    ]
   },
   "outputs": [],
   "source": [
    "tr.trim(tr.stats.starttime + 3, tr.stats.endtime - 5)\n",
    "tr.plot()"
   ]
  },
  {
   "cell_type": "markdown",
   "id": "947dfe25",
   "metadata": {},
   "source": [
    "- Scale up the amplitudes of the trace by a factor of 500\n",
    "- Add standard normal gaussian noise to the trace (use [**`np.random.randn()`**](http://docs.scipy.org/doc/numpy/reference/generated/numpy.random.randn.html))\n",
    "- Display the preview plot again"
   ]
  },
  {
   "cell_type": "code",
   "execution_count": null,
   "id": "22013653",
   "metadata": {
    "lines_to_next_cell": 2,
    "tags": [
     "exercise"
    ]
   },
   "outputs": [],
   "source": []
  },
  {
   "cell_type": "code",
   "execution_count": null,
   "id": "e71fb1b2",
   "metadata": {
    "tags": [
     "solution"
    ]
   },
   "outputs": [],
   "source": [
    "tr.data = tr.data * 500\n",
    "tr.data = tr.data + np.random.randn(len(tr))\n",
    "tr.plot()"
   ]
  },
  {
   "cell_type": "markdown",
   "id": "ea91fafe",
   "metadata": {},
   "source": [
    "#### Stream Exercises\n",
    "\n",
    "- Read all Tohoku example earthquake data into a stream object (\"./data/waveform\\_\\*\")\n",
    "- Print the stream summary"
   ]
  },
  {
   "cell_type": "code",
   "execution_count": null,
   "id": "a7c4a653",
   "metadata": {
    "lines_to_next_cell": 2,
    "tags": [
     "exercise"
    ]
   },
   "outputs": [],
   "source": []
  },
  {
   "cell_type": "code",
   "execution_count": null,
   "id": "3bf7bc13",
   "metadata": {
    "tags": [
     "solution"
    ]
   },
   "outputs": [],
   "source": [
    "st = read(\"./data/waveform_*\")\n",
    "print(st)"
   ]
  },
  {
   "cell_type": "markdown",
   "id": "1c215b1f",
   "metadata": {},
   "source": [
    "- Use **`st.select()`** to only keep traces of station BFO in the stream. Show the preview plot."
   ]
  },
  {
   "cell_type": "code",
   "execution_count": null,
   "id": "de7baef0",
   "metadata": {
    "lines_to_next_cell": 2,
    "tags": [
     "exercise"
    ]
   },
   "outputs": [],
   "source": []
  },
  {
   "cell_type": "code",
   "execution_count": null,
   "id": "87ceb3b0",
   "metadata": {
    "tags": [
     "solution"
    ]
   },
   "outputs": [],
   "source": [
    "st = st.select(station=\"BFO\")\n",
    "st.plot()"
   ]
  },
  {
   "cell_type": "markdown",
   "id": "765bcdb9",
   "metadata": {},
   "source": [
    "- trim the data to a 10 minute time window around the first arrival (just roughly looking at the preview plot)\n",
    "- display the preview plot and spectrograms for the stream (with logarithmic frequency scale, use `wlen=50` for the spectrogram plot)"
   ]
  },
  {
   "cell_type": "code",
   "execution_count": null,
   "id": "62982d81",
   "metadata": {
    "lines_to_next_cell": 2,
    "tags": [
     "exercise"
    ]
   },
   "outputs": [],
   "source": []
  },
  {
   "cell_type": "code",
   "execution_count": null,
   "id": "a84b7091",
   "metadata": {
    "tags": [
     "solution"
    ]
   },
   "outputs": [],
   "source": [
    "t1 = UTCDateTime(2011, 3, 11, 5, 55)\n",
    "st.trim(t1, t1 + 10 * 60)\n",
    "st.plot()\n",
    "st.spectrogram(log=True, wlen=50);"
   ]
  },
  {
   "cell_type": "markdown",
   "id": "bdb437ad",
   "metadata": {},
   "source": [
    "- remove the linear trend from the data, apply a tapering and a lowpass at 0.1 Hertz\n",
    "- show the preview plot again"
   ]
  },
  {
   "cell_type": "code",
   "execution_count": null,
   "id": "ae2feb7a",
   "metadata": {
    "lines_to_next_cell": 2,
    "tags": [
     "exercise"
    ]
   },
   "outputs": [],
   "source": []
  },
  {
   "cell_type": "code",
   "execution_count": null,
   "id": "753b3702",
   "metadata": {
    "tags": [
     "solution"
    ]
   },
   "outputs": [],
   "source": [
    "st.detrend(\"linear\")\n",
    "st.filter(\"lowpass\", freq=0.1)\n",
    "st.plot()"
   ]
  }
 ],
 "metadata": {
  "jupytext": {
   "cell_metadata_json": true
  },
  "kernelspec": {
   "display_name": "Python 3",
   "language": "python",
   "name": "python3"
  }
 },
 "nbformat": 4,
 "nbformat_minor": 5
}
