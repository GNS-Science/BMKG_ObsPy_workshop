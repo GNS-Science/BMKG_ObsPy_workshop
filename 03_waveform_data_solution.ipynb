{
  "cells": [
    {
      "cell_type": "markdown",
      "id": "aff17937",
      "metadata": {
        "id": "aff17937"
      },
      "source": [
        "<div style='background-image: url(\"../share/images/header.svg\") ; padding: 0px ; background-size: cover ; border-radius: 5px ; height: 250px'>\n",
        "    <div style=\"float: right ; margin: 50px ; padding: 20px ; background: rgba(255 , 255 , 255 , 0.7) ; width: 50% ; height: 150px\">\n",
        "        <div style=\"position: relative ; top: 50% ; transform: translatey(-50%)\">\n",
        "            <div style=\"font-size: xx-large ; font-weight: 900 ; color: rgba(0 , 0 , 0 , 0.8) ; line-height: 100%\">ObsPy Tutorial</div>\n",
        "            <div style=\"font-size: large ; padding-top: 20px ; color: rgba(0 , 0 , 0 , 0.5)\">Handling Waveform Data</div>\n",
        "        </div>\n",
        "    </div>\n",
        "</div>"
      ]
    },
    {
      "cell_type": "markdown",
      "id": "bd51ff6c",
      "metadata": {
        "id": "bd51ff6c"
      },
      "source": [
        "Seismo-Live: http://seismo-live.org\n",
        "\n",
        "##### Authors:\n",
        "* Tobias Megies ([@megies](https://github.com/megies))\n",
        "* Lion Krischer ([@krischer](https://github.com/krischer))\n",
        "* Yannik Behr ([@yannikbehr](https://github.com/yannikbehr))\n",
        "---"
      ]
    },
    {
      "cell_type": "markdown",
      "id": "4484744d",
      "metadata": {
        "id": "4484744d"
      },
      "source": [
        "![](https://github.com/yannikbehr/BMKG_OBSPY_WORKSHOP/blob/main/images/obspy_logo_full_524x179px.png?raw=1)"
      ]
    },
    {
      "cell_type": "code",
      "source": [
        "try:\n",
        "  import obspy\n",
        "except ModuleNotFoundError:\n",
        "  !pip -qq install obspy"
      ],
      "metadata": {
        "id": "9Q7mX1p1YXn1"
      },
      "execution_count": null,
      "outputs": [],
      "id": "9Q7mX1p1YXn1"
    },
    {
      "cell_type": "code",
      "execution_count": null,
      "id": "8ba5a914",
      "metadata": {
        "id": "8ba5a914"
      },
      "outputs": [],
      "source": [
        "import matplotlib.pyplot as plt\n",
        "plt.style.use('ggplot')\n",
        "plt.rcParams['figure.figsize'] = 12, 8"
      ]
    },
    {
      "cell_type": "markdown",
      "id": "fea91a1c",
      "metadata": {
        "id": "fea91a1c"
      },
      "source": [
        "#### Trace Exercises\n",
        " - Make an **`numpy.ndarray`** with zeros and (e.g. use **`numpy.zeros()`**) and put an ideal pulse somewhere in it\n",
        " - initialize a **`Trace`** object with your data array\n",
        " - Fill in some station information (e.g. network, station, ..)\n",
        " - Print trace summary and plot the trace\n",
        " - Change the sampling rate to 20 Hz\n",
        " - Change the starttime of the trace to the start time of this session\n",
        " - Print the trace summary and plot the trace again"
      ]
    },
    {
      "cell_type": "code",
      "execution_count": null,
      "id": "e5ff5696",
      "metadata": {
        "tags": [
          "solution"
        ],
        "id": "e5ff5696"
      },
      "outputs": [],
      "source": [
        "import numpy as np\n",
        "from obspy import Trace, UTCDateTime, read\n",
        "x = np.zeros(300)\n",
        "x[100] = 1.0\n",
        "tr = Trace(data=x)\n",
        "tr.stats.station = \"ABC\"\n",
        "tr.stats.sampling_rate = 20.0\n",
        "tr.stats.starttime = UTCDateTime(2014, 2, 24, 15, 0, 0)\n",
        "print(tr)\n",
        "tr.plot();"
      ]
    },
    {
      "cell_type": "markdown",
      "id": "fef949b2",
      "metadata": {
        "id": "fef949b2"
      },
      "source": [
        "- Use **`tr.filter(...)`** and apply a lowpass filter with a corner frequency of 1 Hertz.\n",
        "- Display the preview plot, there are a few seconds of zeros that we can cut off."
      ]
    },
    {
      "cell_type": "code",
      "execution_count": null,
      "id": "10a47840",
      "metadata": {
        "tags": [
          "solution"
        ],
        "id": "10a47840"
      },
      "outputs": [],
      "source": [
        "tr.filter(\"lowpass\", freq=1)\n",
        "tr.plot();"
      ]
    },
    {
      "cell_type": "markdown",
      "id": "cdb349f1",
      "metadata": {
        "id": "cdb349f1"
      },
      "source": [
        "- Use **`tr.trim(...)`** to remove some of the zeros at start and at the end\n",
        "- show the preview plot again"
      ]
    },
    {
      "cell_type": "code",
      "execution_count": null,
      "id": "ad4dea27",
      "metadata": {
        "tags": [
          "solution"
        ],
        "id": "ad4dea27"
      },
      "outputs": [],
      "source": [
        "tr.trim(tr.stats.starttime + 3, tr.stats.endtime - 5)\n",
        "tr.plot();"
      ]
    },
    {
      "cell_type": "markdown",
      "id": "947dfe25",
      "metadata": {
        "id": "947dfe25"
      },
      "source": [
        "- Scale up the amplitudes of the trace by a factor of 500\n",
        "- Add standard normal gaussian noise to the trace (use [**`np.random.randn()`**](http://docs.scipy.org/doc/numpy/reference/generated/numpy.random.randn.html))\n",
        "- Display the preview plot again"
      ]
    },
    {
      "cell_type": "code",
      "execution_count": null,
      "id": "e71fb1b2",
      "metadata": {
        "tags": [
          "solution"
        ],
        "id": "e71fb1b2"
      },
      "outputs": [],
      "source": [
        "tr.data = tr.data * 500\n",
        "tr.data = tr.data + np.random.randn(len(tr))\n",
        "tr.plot();"
      ]
    },
    {
      "cell_type": "markdown",
      "id": "ea91fafe",
      "metadata": {
        "id": "ea91fafe"
      },
      "source": [
        "#### Stream Exercises\n",
        "\n",
        "- Read all example earthquake data into a stream object (\"./data/\\*.mseed\")\n",
        "- Print the stream summary"
      ]
    },
    {
      "cell_type": "code",
      "source": [
        "!wget https://github.com/yannikbehr/BMKG_ObsPy_workshop/raw/refs/heads/main/data/indonesia_waveforms.tar.gz\n",
        "!tar -xzf indonesia_waveforms.tar.gz"
      ],
      "metadata": {
        "id": "SMlwX-9J-3GJ"
      },
      "execution_count": null,
      "outputs": [],
      "id": "SMlwX-9J-3GJ"
    },
    {
      "cell_type": "code",
      "execution_count": null,
      "id": "3bf7bc13",
      "metadata": {
        "tags": [
          "solution"
        ],
        "id": "3bf7bc13"
      },
      "outputs": [],
      "source": [
        "st = read(\"./data/*.mseed\")\n",
        "print(st)"
      ]
    },
    {
      "cell_type": "markdown",
      "id": "1c215b1f",
      "metadata": {
        "id": "1c215b1f"
      },
      "source": [
        "- Use **`st.select()`** to only keep traces of station BBJI in the stream. Show the preview plot."
      ]
    },
    {
      "cell_type": "code",
      "execution_count": null,
      "id": "87ceb3b0",
      "metadata": {
        "tags": [
          "solution"
        ],
        "id": "87ceb3b0"
      },
      "outputs": [],
      "source": [
        "st = st.select(station=\"BBJI\")\n",
        "st.plot();"
      ]
    },
    {
      "cell_type": "markdown",
      "id": "765bcdb9",
      "metadata": {
        "id": "765bcdb9"
      },
      "source": [
        "- trim the data to a 10 minute time window around the first arrival (just roughly looking at the preview plot)\n",
        "- display the preview plot and spectrograms for the stream (with logarithmic frequency scale, use `wlen=50` for the spectrogram plot)"
      ]
    },
    {
      "cell_type": "code",
      "execution_count": null,
      "id": "a84b7091",
      "metadata": {
        "tags": [
          "solution"
        ],
        "id": "a84b7091"
      },
      "outputs": [],
      "source": [
        "t1 = UTCDateTime(2018, 12, 22, 14, 30)\n",
        "st.trim(t1, t1 + 10 * 60)\n",
        "st.plot()\n",
        "st.spectrogram(log=True, wlen=50);"
      ]
    },
    {
      "cell_type": "markdown",
      "id": "bdb437ad",
      "metadata": {
        "id": "bdb437ad"
      },
      "source": [
        "- remove the linear trend from the data, apply a tapering and a lowpass at 0.1 Hertz\n",
        "- show the preview plot again"
      ]
    },
    {
      "cell_type": "code",
      "execution_count": null,
      "id": "753b3702",
      "metadata": {
        "tags": [
          "solution"
        ],
        "id": "753b3702"
      },
      "outputs": [],
      "source": [
        "st.detrend(\"linear\")\n",
        "st.filter(\"lowpass\", freq=0.1)\n",
        "st.plot();"
      ]
    }
  ],
  "metadata": {
    "jupytext": {
      "cell_metadata_json": true
    },
    "kernelspec": {
      "display_name": "Python 3",
      "language": "python",
      "name": "python3"
    },
    "colab": {
      "provenance": []
    }
  },
  "nbformat": 4,
  "nbformat_minor": 5
}