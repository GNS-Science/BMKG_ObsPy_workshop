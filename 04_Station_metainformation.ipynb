{
  "cells": [
    {
      "cell_type": "markdown",
      "id": "76c5a29a",
      "metadata": {},
      "source": [
        "<img src=\"https://raw.githubusercontent.com/seismo-live/seismo_live/refs/heads/master/notebooks/Workshops/2017_Baku_STCU_IRIS_ObsPy_course/images/obspy_logo_full_524x179px.png\" width=90%> "
      ]
    },
    {
      "cell_type": "markdown",
      "id": "e1070512",
      "metadata": {
        "id": "e1070512"
      },
      "source": [
        "# Station Metainformation"
      ]
    },
    {
      "cell_type": "code",
      "execution_count": null,
      "id": "E9Y3Ewv2FWJT",
      "metadata": {
        "id": "E9Y3Ewv2FWJT"
      },
      "outputs": [],
      "source": [
        "try:\n",
        "  import obspy\n",
        "except ModuleNotFoundError:\n",
        "  !pip -qq install obspy\n",
        "  import obspy"
      ]
    },
    {
      "cell_type": "code",
      "execution_count": null,
      "id": "88c1c3b9",
      "metadata": {
        "id": "88c1c3b9"
      },
      "outputs": [],
      "source": [
        "import matplotlib.pyplot as plt\n",
        "plt.style.use('ggplot')\n",
        "plt.rcParams['figure.figsize'] = 12, 8"
      ]
    },
    {
      "cell_type": "markdown",
      "id": "d14d3960",
      "metadata": {
        "id": "d14d3960"
      },
      "source": [
        "- for station metadata, the de-facto standard of the future (replacing SEED/RESP) is [FDSN StationXML](http://www.fdsn.org/xml/station/)\n",
        "- FDSN StationXML files can be read using **`read_inventory()`**"
      ]
    },
    {
      "cell_type": "code",
      "execution_count": null,
      "id": "sx3mhEENNhOO",
      "metadata": {
        "id": "sx3mhEENNhOO"
      },
      "outputs": [],
      "source": [
        "!wget https://github.com/yannikbehr/BMKG_ObsPy_workshop/raw/refs/heads/main/data/indonesia_waveforms.tar.gz\n",
        "!tar -xzf indonesia_waveforms.tar.gz"
      ]
    },
    {
      "cell_type": "code",
      "execution_count": null,
      "id": "b8638db3",
      "metadata": {
        "id": "b8638db3"
      },
      "outputs": [],
      "source": [
        "from obspy import read_inventory\n",
        "# real-world StationXML files often deviate from the official schema definition\n",
        "# therefore file-format autodiscovery sometimes fails and we have to force the file format\n",
        "inventory = read_inventory(\"./data/station_BBJI.xml\", format=\"STATIONXML\")\n",
        "print(type(inventory))"
      ]
    },
    {
      "cell_type": "markdown",
      "id": "bba401af",
      "metadata": {
        "id": "bba401af"
      },
      "source": [
        "- the nested ObsPy Inventory class structure (Inventory/Station/Channel/Response/...) is closely modelled after FDSN StationXML\n",
        "<img src=\"https://raw.githubusercontent.com/seismo-live/seismo_live/refs/heads/master/notebooks/Workshops/2017_Baku_STCU_IRIS_ObsPy_course/images/Inventory.svg\" width=90%>"
      ]
    },
    {
      "cell_type": "code",
      "execution_count": null,
      "id": "15a3c6cd",
      "metadata": {
        "id": "15a3c6cd"
      },
      "outputs": [],
      "source": [
        "!head data/station_BBJI.xml"
      ]
    },
    {
      "cell_type": "code",
      "execution_count": null,
      "id": "ee0d0eed",
      "metadata": {
        "id": "ee0d0eed"
      },
      "outputs": [],
      "source": [
        "print(inventory)"
      ]
    },
    {
      "cell_type": "code",
      "execution_count": null,
      "id": "368e5c82",
      "metadata": {
        "id": "368e5c82"
      },
      "outputs": [],
      "source": [
        "network = inventory[0]\n",
        "print(network)"
      ]
    },
    {
      "cell_type": "code",
      "execution_count": null,
      "id": "d1fa7195",
      "metadata": {
        "id": "d1fa7195"
      },
      "outputs": [],
      "source": [
        "station = network[0]\n",
        "print(station)"
      ]
    },
    {
      "cell_type": "code",
      "execution_count": null,
      "id": "36aab9f0",
      "metadata": {
        "id": "36aab9f0"
      },
      "outputs": [],
      "source": [
        "channel = station[0]\n",
        "print(channel)"
      ]
    },
    {
      "cell_type": "code",
      "execution_count": null,
      "id": "bda5d0c3",
      "metadata": {
        "id": "bda5d0c3"
      },
      "outputs": [],
      "source": [
        "print(channel.response)"
      ]
    },
    {
      "cell_type": "code",
      "execution_count": null,
      "id": "89d53909",
      "metadata": {
        "id": "89d53909"
      },
      "outputs": [],
      "source": [
        "from obspy import read\n",
        "st = read(\"./data/GE.BBJI..LHZ.mseed\")\n",
        "print(st)"
      ]
    },
    {
      "cell_type": "code",
      "execution_count": null,
      "id": "4d1f0164",
      "metadata": {
        "id": "4d1f0164"
      },
      "outputs": [],
      "source": [
        "inv = read_inventory(\"./data/station_BBJI.xml\", format=\"STATIONXML\")"
      ]
    },
    {
      "cell_type": "code",
      "execution_count": null,
      "id": "ce73f46a",
      "metadata": {
        "id": "ce73f46a"
      },
      "outputs": [],
      "source": [
        "print(st[0].stats)"
      ]
    },
    {
      "cell_type": "markdown",
      "id": "2b02993e",
      "metadata": {
        "id": "2b02993e"
      },
      "source": [
        "- the instrument response can be deconvolved from the waveform data using the convenience method **`Stream.remove_response()`**\n",
        "- evalresp is used internally to calculate the instrument response"
      ]
    },
    {
      "cell_type": "code",
      "execution_count": null,
      "id": "f8fa0c25",
      "metadata": {
        "id": "f8fa0c25"
      },
      "outputs": [],
      "source": [
        "st.plot()\n",
        "st.remove_response(inventory=inv)\n",
        "st.plot();"
      ]
    },
    {
      "cell_type": "markdown",
      "id": "c3b1098c",
      "metadata": {
        "id": "c3b1098c"
      },
      "source": [
        "- several options can be used to specify details of the deconvolution (water level, frequency domain prefiltering), output units (velocity/displacement/acceleration), demeaning, tapering and to specify if any response stages should be omitted"
      ]
    },
    {
      "cell_type": "code",
      "execution_count": null,
      "id": "d909d58b",
      "metadata": {
        "id": "d909d58b"
      },
      "outputs": [],
      "source": [
        "st = read(\"./data/GE.BBJI..LHZ.mseed\")\n",
        "st.remove_response(inventory=inv, water_level=60, pre_filt=(0.01, 0.02, 8, 10), output=\"DISP\")\n",
        "st.plot();"
      ]
    },
    {
      "cell_type": "markdown",
      "id": "2fbf03e6",
      "metadata": {
        "id": "2fbf03e6"
      },
      "source": [
        "- station metadata not present in StationXML yet but in Dataless SEED or RESP files can be used for instrument correction using the `.simulate()` method of Stream/Trace in a similar fashion"
      ]
    }
  ],
  "metadata": {
    "colab": {
      "provenance": []
    },
    "kernelspec": {
      "display_name": "Python 3",
      "language": "python",
      "name": "python3"
    }
  },
  "nbformat": 4,
  "nbformat_minor": 5
}
