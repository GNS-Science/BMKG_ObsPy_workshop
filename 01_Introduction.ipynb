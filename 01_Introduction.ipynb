{
  "cells": [
    {
      "cell_type": "markdown",
      "id": "6deacec8",
      "metadata": {},
      "source": [
        "\n",
        "<img src=\"https://raw.githubusercontent.com/seismo-live/seismo_live/refs/heads/master/notebooks/Workshops/2017_Baku_STCU_IRIS_ObsPy_course/images/obspy_logo_full_524x179px.png\" width=90%> "
      ]
    },
    {
      "cell_type": "markdown",
      "id": "af18ae0e",
      "metadata": {
        "id": "af18ae0e"
      },
      "source": [
        "Welcome to the workshop on ObsPy. It is based on a workshop published at [Seismo-Live](http://seismo-live.org) with modifications that make it more relevant for this group and to run on [Colab](https://colab.research.google.com/). For an in-depth Colab tutorial see [here](https://colab.research.google.com/github/probml/probml-notebooks/blob/main/notebooks/colab_intro.ipynb). This is not required for the workshop.\n",
        "\n",
        "\n",
        "##### Authors:\n",
        "* Lion Krischer ([@krischer](https://github.com/krischer))\n",
        "* Tobias Megies ([@megies](https://github.com/megies))\n",
        "* Yannik Behr ([@yannikbehr](https://github.com/yannikbehr))"
      ]
    },
    {
      "cell_type": "markdown",
      "id": "0d2a839b",
      "metadata": {
        "id": "0d2a839b"
      },
      "source": [
        "![](https://github.com/GNS-Science/BMKG_OBSPY_WORKSHOP/blob/main/images/obspy_logo_full_524x179px.png?raw=1)"
      ]
    },
    {
      "cell_type": "markdown",
      "id": "fe70cf53",
      "metadata": {
        "id": "fe70cf53"
      },
      "source": [
        "**This notebook aims to give a quick introduction to ObsPy's core functions and classes. Everything here will be repeated in more detail in later notebooks.**"
      ]
    },
    {
      "cell_type": "code",
      "execution_count": 1,
      "id": "_fh4AW49GJQy",
      "metadata": {
        "id": "_fh4AW49GJQy"
      },
      "outputs": [],
      "source": [
        "try:\n",
        "  import obspy\n",
        "  import cartopy\n",
        "except ModuleNotFoundError:\n",
        "  !pip -qq install obspy\n",
        "  !pip -qq install cartopy\n",
        "  import obspy\n",
        "  import cartopy"
      ]
    },
    {
      "cell_type": "code",
      "execution_count": 2,
      "id": "2b962651",
      "metadata": {
        "id": "2b962651"
      },
      "outputs": [],
      "source": [
        "import matplotlib.pyplot as plt\n",
        "plt.style.use('ggplot')\n",
        "plt.rcParams['figure.figsize'] = 12, 8"
      ]
    },
    {
      "cell_type": "markdown",
      "id": "53e2cd9b",
      "metadata": {
        "id": "53e2cd9b"
      },
      "source": [
        "## SEED Identifiers\n",
        "\n",
        "According to the  [SEED standard](www.fdsn.org/seed_manual/SEEDManual_V2.4.pdf), which is fairly well adopted, the following nomenclature is used to identify seismic receivers:\n",
        "\n",
        "* **Network code**: Identifies the network/owner of the data. Assigned by the FDSN and thus unique.\n",
        "* **Station code**: The station within a network. *NOT UNIQUE IN PRACTICE!* Always use together with a network code!\n",
        "* **Location ID**: Identifies different data streams within one station. Commonly used to logically separate multiple instruments at a single station.\n",
        "* **Channel codes**: Three character code: 1) Band and approximate sampling rate, 2) The type of instrument, 3) The orientation\n",
        "\n",
        "This results in full ids of the form **NET.STA.LOC.CHAN**, e.g. **IV.PRMA..HHE**.\n",
        "\n",
        "\n",
        "---\n",
        "\n",
        "\n",
        "In seismology we generally distinguish between three separate types of data:\n",
        "\n",
        "1. **Waveform Data** - The actual waveforms as time series.\n",
        "2. **Station Data** - Information about the stations' operators, geographical locations, and the instrument's responses.\n",
        "3. **Event Data** - Information about earthquakes.\n",
        "\n",
        "Some formats have elements of two or more of these."
      ]
    },
    {
      "cell_type": "markdown",
      "id": "fdf96462",
      "metadata": {
        "id": "fdf96462"
      },
      "source": [
        "## Waveform Data\n",
        "\n",
        "![stream](https://raw.githubusercontent.com/seismo-live/seismo_live/refs/heads/master/notebooks/Workshops/2017_Baku_STCU_IRIS_ObsPy_course/images/Stream_Trace.svg)\n",
        "\n",
        "There are a myriad of waveform data formats but in Europe and the USA two formats dominate: **MiniSEED** and **SAC**\n",
        "\n",
        "\n",
        "### MiniSEED\n",
        "\n",
        "* This is what you get from datacenters and also what they store, thus the original data\n",
        "* Can store integers and single/double precision floats\n",
        "* Integer data (e.g. counts from a digitizer) are heavily compressed: a factor of 3-5 depending on the data\n",
        "* Can deal with gaps and overlaps\n",
        "* Multiple components per file\n",
        "* Contains only the really necessary parameters and some information for the data providers"
      ]
    },
    {
      "cell_type": "code",
      "execution_count": null,
      "id": "94ed7570",
      "metadata": {
        "id": "94ed7570"
      },
      "outputs": [],
      "source": [
        "import obspy\n",
        "# ObsPy automatically detects the file format.\n",
        "st = obspy.read()\n",
        "print(st)\n",
        "\n",
        "# Fileformat specific information is stored here.\n",
        "print(st[0].stats)"
      ]
    },
    {
      "cell_type": "code",
      "execution_count": null,
      "id": "a85adae1",
      "metadata": {
        "id": "a85adae1"
      },
      "outputs": [],
      "source": [
        "st.plot();"
      ]
    },
    {
      "cell_type": "code",
      "execution_count": null,
      "id": "ab1e7926",
      "metadata": {
        "id": "ab1e7926"
      },
      "outputs": [],
      "source": [
        "# This is a quick interlude to teach you basics about how to work\n",
        "# with Stream/Trace objects.\n",
        "\n",
        "# Most operations work in-place, e.g. they modify the existing\n",
        "# objects. We'll create a copy here.\n",
        "st2 = st.copy()\n",
        "\n",
        "# To use only part of a Stream, use the select() function.\n",
        "print(st2.select(component=\"Z\"))\n",
        "\n",
        "# Stream objects behave like a list of Trace objects.\n",
        "tr = st2[0]\n",
        "\n",
        "tr.plot()\n",
        "\n",
        "# Some basic processing. Please note that these modify the\n",
        "# existing object.\n",
        "tr.detrend(\"linear\")\n",
        "tr.taper(type=\"hann\", max_percentage=0.05)\n",
        "tr.filter(\"lowpass\", freq=0.5)\n",
        "\n",
        "tr.plot();"
      ]
    },
    {
      "cell_type": "code",
      "execution_count": 22,
      "id": "209748a3",
      "metadata": {
        "id": "209748a3"
      },
      "outputs": [],
      "source": [
        "# You can write it again by simply specifing the format.\n",
        "st.write(\"temp.mseed\", format=\"mseed\")"
      ]
    },
    {
      "cell_type": "markdown",
      "id": "a1e8b24f",
      "metadata": {
        "id": "a1e8b24f"
      },
      "source": [
        "## Station Data\n",
        "\n",
        "![inv](https://raw.githubusercontent.com/seismo-live/seismo_live/refs/heads/master/notebooks/Workshops/2017_Baku_STCU_IRIS_ObsPy_course/images/Inventory.svg)\n",
        "\n",
        "Station data contains information about the organziation that collections the data, geographical information, as well as the instrument response. It mainly comes in three formats:\n",
        "\n",
        "* `(dataless) SEED`: Very complete but pretty complex and binary. Still used a lot, e.g. for the Arclink protocol\n",
        "* `RESP`: A strict subset of SEED. ASCII based. Contains **ONLY** the response.\n",
        "* `StationXML`: Essentially like SEED but cleaner and based on XML. Most modern format and what the datacenters nowadays serve. **Use this if you can.**\n",
        "\n",
        "\n",
        "ObsPy can work with all of them but today we will focus on StationXML."
      ]
    },
    {
      "cell_type": "markdown",
      "id": "5303adce",
      "metadata": {
        "id": "5303adce"
      },
      "source": [
        "They are XML files:"
      ]
    },
    {
      "cell_type": "code",
      "execution_count": null,
      "id": "e9980b8b",
      "metadata": {
        "id": "e9980b8b"
      },
      "outputs": [],
      "source": [
        "import obspy\n",
        "\n",
        "# Use the read_inventory function to open them.\n",
        "inv = obspy.read_inventory()\n",
        "print(inv)"
      ]
    },
    {
      "cell_type": "markdown",
      "id": "461214c9",
      "metadata": {
        "id": "461214c9"
      },
      "source": [
        "You can see that they can contain an arbirary number of networks, stations, and channels."
      ]
    },
    {
      "cell_type": "code",
      "execution_count": null,
      "id": "2d940fe6",
      "metadata": {
        "id": "2d940fe6"
      },
      "outputs": [],
      "source": [
        "# ObsPy is also able to plot a map of them.\n",
        "inv.plot(projection=\"local\");"
      ]
    },
    {
      "cell_type": "code",
      "execution_count": null,
      "id": "643185a2",
      "metadata": {
        "id": "643185a2"
      },
      "outputs": [],
      "source": [
        "# As well as a plot the instrument response.\n",
        "inv.select(network=\"GR\", station=\"FUR\", channel=\"BH?\").plot_response(0.001);"
      ]
    },
    {
      "cell_type": "code",
      "execution_count": null,
      "id": "baab49c9",
      "metadata": {
        "id": "baab49c9"
      },
      "outputs": [],
      "source": [
        "# Coordinates of single channels can also be extraced. This function\n",
        "# also takes a datetime arguments to extract information at different\n",
        "# points in time.\n",
        "inv.get_coordinates(\"GR.FUR..BHZ\")"
      ]
    },
    {
      "cell_type": "code",
      "execution_count": 11,
      "id": "4cfec68f",
      "metadata": {
        "id": "4cfec68f"
      },
      "outputs": [],
      "source": [
        "# And it can naturally be written again, also in modified state.\n",
        "inv.select(channel=\"BHZ\").write(\"temp.xml\", format=\"stationxml\")"
      ]
    },
    {
      "cell_type": "markdown",
      "id": "fc8e6961",
      "metadata": {
        "id": "fc8e6961"
      },
      "source": [
        "## Event Data\n",
        "\n",
        "![events](https://raw.githubusercontent.com/seismo-live/seismo_live/refs/heads/master/notebooks/Workshops/2017_Baku_STCU_IRIS_ObsPy_course/images/Event.svg)\n",
        "\n",
        "Event data is essentially served in either very simple formats like NDK or the CMTSOLUTION format used by many waveform solvers. We here use a catalogue that we downloaded from [IRIS' Spud service](http://ds.iris.edu/spud/momenttensor)."
      ]
    },
    {
      "cell_type": "code",
      "execution_count": null,
      "id": "cb72ec45",
      "metadata": {
        "id": "cb72ec45"
      },
      "outputs": [],
      "source": [
        "!wget https://raw.githubusercontent.com/GNS-Science/BMKG_ObsPy_workshop/refs/heads/main/data/indonesia_events_2024.ndk"
      ]
    },
    {
      "cell_type": "markdown",
      "id": "95f5b0ee",
      "metadata": {
        "id": "95f5b0ee"
      },
      "source": [
        "Datacenters on the hand offer **QuakeML** files, which are surprisingly complex in structure but can store complex relations."
      ]
    },
    {
      "cell_type": "code",
      "execution_count": 13,
      "id": "62ee730d",
      "metadata": {
        "id": "62ee730d"
      },
      "outputs": [],
      "source": [
        "# Read QuakeML files with the read_events() function.\n",
        "# cat = obspy.read_events(\"data/GCMT_2014_04_01__Mw_8_1.xml\")\n",
        "cat = obspy.read_events('indonesia_events_2024.ndk')"
      ]
    },
    {
      "cell_type": "code",
      "execution_count": null,
      "id": "f1288fce",
      "metadata": {
        "id": "f1288fce"
      },
      "outputs": [],
      "source": [
        "print(cat[0])"
      ]
    },
    {
      "cell_type": "code",
      "execution_count": null,
      "id": "ec9c5468",
      "metadata": {
        "id": "ec9c5468"
      },
      "outputs": [],
      "source": [
        "cat.plot(projection=\"ortho\");"
      ]
    },
    {
      "cell_type": "code",
      "execution_count": 16,
      "id": "764c5bed",
      "metadata": {
        "id": "764c5bed"
      },
      "outputs": [],
      "source": [
        "# Once again they can be written with the write() function.\n",
        "cat.write(\"temp_quake.xml\", format=\"quakeml\")"
      ]
    },
    {
      "cell_type": "markdown",
      "id": "0a7a8d8e",
      "metadata": {
        "id": "0a7a8d8e"
      },
      "source": [
        "To show off some more things, I added a file containing all events from 2014 in the GCMT catalog."
      ]
    },
    {
      "cell_type": "code",
      "execution_count": 17,
      "id": "77275886",
      "metadata": {
        "id": "77275886"
      },
      "outputs": [],
      "source": [
        "m7_event = cat.filter(\"depth > 100000\", \"magnitude > 7\")"
      ]
    },
    {
      "cell_type": "code",
      "execution_count": 18,
      "id": "GeA8KecDH0dw",
      "metadata": {
        "id": "GeA8KecDH0dw"
      },
      "outputs": [],
      "source": [
        "mt = m7_event[0].focal_mechanisms[0].moment_tensor.tensor"
      ]
    },
    {
      "cell_type": "code",
      "execution_count": 19,
      "id": "gsvr2JGSIKaI",
      "metadata": {
        "id": "gsvr2JGSIKaI"
      },
      "outputs": [],
      "source": [
        "from obspy.imaging.beachball import beachball"
      ]
    },
    {
      "cell_type": "code",
      "execution_count": null,
      "id": "P7UfdmxDIP65",
      "metadata": {
        "id": "P7UfdmxDIP65"
      },
      "outputs": [],
      "source": [
        "_ = beachball([mt.m_rr, mt.m_tt, mt.m_pp, mt.m_rt, mt.m_rp, mt.m_tp])"
      ]
    }
  ],
  "metadata": {
    "colab": {
      "provenance": []
    },
    "kernelspec": {
      "display_name": "Python 3",
      "language": "python",
      "name": "python3"
    },
    "language_info": {
      "codemirror_mode": {
        "name": "ipython",
        "version": 3
      },
      "file_extension": ".py",
      "mimetype": "text/x-python",
      "name": "python",
      "nbconvert_exporter": "python",
      "pygments_lexer": "ipython3",
      "version": "3.9.16"
    }
  },
  "nbformat": 4,
  "nbformat_minor": 5
}
