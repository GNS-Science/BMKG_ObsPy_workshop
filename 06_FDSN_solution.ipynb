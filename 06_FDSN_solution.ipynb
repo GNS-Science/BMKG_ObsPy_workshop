{
 "cells": [
  {
   "cell_type": "markdown",
   "id": "12726726",
   "metadata": {},
   "source": [
    "<img src=\"https://raw.githubusercontent.com/seismo-live/seismo_live/refs/heads/master/notebooks/Workshops/2017_Baku_STCU_IRIS_ObsPy_course/images/obspy_logo_full_524x179px.png\" width=90%> "
   ]
  },
  {
   "cell_type": "markdown",
   "id": "3792c2fa",
   "metadata": {},
   "source": [
    "![](images/obspy_logo_full_524x179px.png)"
   ]
  },
  {
   "cell_type": "code",
   "execution_count": 1,
   "id": "f2ec5b0f",
   "metadata": {},
   "outputs": [],
   "source": [
    "try:\n",
    "  import obspy\n",
    "  import cartopy\n",
    "except ModuleNotFoundError:\n",
    "  !pip -qq install obspy cartopy\n",
    "  import obspy\n",
    "  import cartopy"
   ]
  },
  {
   "cell_type": "code",
   "execution_count": 2,
   "id": "ed70d60d",
   "metadata": {},
   "outputs": [],
   "source": [
    "import matplotlib.pyplot as plt\n",
    "plt.style.use('ggplot')\n",
    "plt.rcParams['figure.figsize'] = 12, 8"
   ]
  },
  {
   "cell_type": "markdown",
   "id": "4424fc53",
   "metadata": {},
   "source": [
    "#### FDSN Client Exercise\n",
    "\n",
    "Use the FDSN client to assemble a waveform dataset for on event.\n",
    "\n",
    "- search for a large earthquake (e.g. by depth or in a region of your choice, use option **`limit=5`** to keep network traffic down)"
   ]
  },
  {
   "cell_type": "code",
   "execution_count": null,
   "id": "f0c0235f",
   "metadata": {
    "tags": [
     "solution"
    ]
   },
   "outputs": [],
   "source": [
    "from obspy.clients.fdsn import Client\n",
    "\n",
    "client = Client()\n",
    "catalog = client.get_events(minmagnitude=7, limit=5, mindepth=400)\n",
    "print(catalog)\n",
    "catalog.plot()\n",
    "event = catalog[0]\n",
    "print(event)"
   ]
  },
  {
   "cell_type": "markdown",
   "id": "1b08ae00",
   "metadata": {},
   "source": [
    "- search for stations to look at waveforms for the event. stations should..\n",
    "    * be available at the time of the event\n",
    "    * have a vertical 1 Hz stream (\"LHZ\", to not overpower our network..)\n",
    "    * be in a narrow angular distance around the event (e.g. 90-91 degrees)\n",
    "    * adjust your search so that only a small number of stations (e.g. 3-6) match your search criteria"
   ]
  },
  {
   "cell_type": "code",
   "execution_count": null,
   "id": "7b95f3bc",
   "metadata": {
    "tags": [
     "solution"
    ]
   },
   "outputs": [],
   "source": [
    "origin = event.origins[0]\n",
    "t = origin.time\n",
    "\n",
    "inventory = client.get_stations(longitude=origin.longitude, latitude=origin.latitude,\n",
    "                                minradius=101, maxradius=102,\n",
    "                                starttime=t, endtime =t+100,\n",
    "                                channel=\"LHZ\", matchtimeseries=True)\n",
    "print(inventory)"
   ]
  },
  {
   "cell_type": "markdown",
   "id": "ac0964f9",
   "metadata": {},
   "source": [
    "- for each of these stations download data of the event, e.g. a couple of minutes before to half an hour after the event\n",
    "- put all data together in one stream (put the `get_waveforms()` call in a try/except/pass block to silently skip stations that actually have no data available)\n",
    "- print stream info, plot the raw data"
   ]
  },
  {
   "cell_type": "code",
   "execution_count": null,
   "id": "31154287",
   "metadata": {
    "tags": [
     "solution"
    ]
   },
   "outputs": [],
   "source": [
    "from obspy import Stream\n",
    "st = Stream()\n",
    "\n",
    "for network in inventory:\n",
    "    for station in network:\n",
    "        try:\n",
    "            st += client.get_waveforms(network.code, station.code, \"*\", \"LHZ\",\n",
    "                                       t - 5 * 60, t + 30 * 60, attach_response=True)\n",
    "        except:\n",
    "            pass\n",
    "\n",
    "print(st)\n",
    "st.plot();"
   ]
  },
  {
   "cell_type": "markdown",
   "id": "2c1cac64",
   "metadata": {},
   "source": [
    "- correct the instrument response for all stations and plot the corrected data"
   ]
  },
  {
   "cell_type": "code",
   "execution_count": null,
   "id": "8034f4c5",
   "metadata": {
    "tags": [
     "solution"
    ]
   },
   "outputs": [],
   "source": [
    "st.remove_response(water_level=20)\n",
    "st.plot()"
   ]
  },
  {
   "cell_type": "markdown",
   "id": "77912b65",
   "metadata": {},
   "source": [
    "If you have time, assemble and plot another similar dataset (e.g. like before stations at a certain distance from a big event, or use Transportable Array data for a big event, etc.)"
   ]
  }
 ],
 "metadata": {
  "jupytext": {
   "cell_metadata_json": true,
   "encoding": "# -*- coding: utf-8 -*-"
  },
  "kernelspec": {
   "display_name": "Python 3",
   "language": "python",
   "name": "python3"
  },
  "language_info": {
   "codemirror_mode": {
    "name": "ipython",
    "version": 3
   },
   "file_extension": ".py",
   "mimetype": "text/x-python",
   "name": "python",
   "nbconvert_exporter": "python",
   "pygments_lexer": "ipython3",
   "version": "3.9.16"
  }
 },
 "nbformat": 4,
 "nbformat_minor": 5
}
