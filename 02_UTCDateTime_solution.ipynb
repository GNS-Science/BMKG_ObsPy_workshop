{
  "cells": [
    {
      "cell_type": "markdown",
      "id": "44567569",
      "metadata": {},
      "source": [
        "<img src=\"https://raw.githubusercontent.com/seismo-live/seismo_live/refs/heads/master/notebooks/Workshops/2017_Baku_STCU_IRIS_ObsPy_course/images/obspy_logo_full_524x179px.png\" width=90%> "
      ]
    },
    {
      "cell_type": "markdown",
      "id": "89e559bb",
      "metadata": {
        "id": "89e559bb"
      },
      "source": [
        "![](https://github.com/GNS-Science/BMKG_OBSPY_WORKSHOP/blob/main/images/obspy_logo_full_524x179px.png?raw=1)"
      ]
    },
    {
      "cell_type": "markdown",
      "id": "0763ab06",
      "metadata": {
        "id": "0763ab06"
      },
      "source": [
        "This is a bit dry but not very difficult and important to know. It is used everywhere in ObsPy!\n",
        "\n",
        "\n",
        "* All absolute time values are consistently handled with this class\n",
        "* Based on a double precision POSIX timestamp for accuracy\n",
        "* Timezone can be specified at initialization (if necessary)\n",
        "* In Coordinated Universal Time (UTC) so no need to deal with timezones, daylight savings, ...\n",
        "\n",
        "---"
      ]
    },
    {
      "cell_type": "code",
      "execution_count": null,
      "id": "_dLwbvclXeJH",
      "metadata": {
        "id": "_dLwbvclXeJH"
      },
      "outputs": [],
      "source": [
        "try:\n",
        "  import obspy\n",
        "except ModuleNotFoundError:\n",
        "  !pip -qq install obspy\n",
        "  import obspy"
      ]
    },
    {
      "cell_type": "markdown",
      "id": "f1e2f426",
      "metadata": {},
      "source": [
        "<img src=\"https://raw.githubusercontent.com/seismo-live/seismo_live/refs/heads/master/notebooks/Workshops/2017_Baku_STCU_IRIS_ObsPy_course/images/obspy_logo_full_524x179px.png\" width=90%> "
      ]
    },
    {
      "cell_type": "code",
      "execution_count": null,
      "id": "5203cbd5",
      "metadata": {
        "id": "5203cbd5"
      },
      "outputs": [],
      "source": [
        "import matplotlib.pyplot as plt\n",
        "plt.style.use('ggplot')\n",
        "plt.rcParams['figure.figsize'] = 12, 8"
      ]
    },
    {
      "cell_type": "markdown",
      "id": "c9a9a2a8",
      "metadata": {
        "id": "c9a9a2a8"
      },
      "source": [
        "---\n",
        "\n",
        "## Features of **`UTCDateTime`**\n",
        "\n",
        "#### Initialization"
      ]
    },
    {
      "cell_type": "code",
      "execution_count": null,
      "id": "c423b008",
      "metadata": {
        "id": "c423b008"
      },
      "outputs": [],
      "source": [
        "from obspy import UTCDateTime\n",
        "\n",
        "print(UTCDateTime(\"2011-03-11T05:46:23.2\"))        # mostly time strings defined by ISO standard\n",
        "print(UTCDateTime(\"2011-03-11T14:46:23.2+09:00\"))  # non-UTC timezone input\n",
        "print(UTCDateTime(2011, 3, 11, 5, 46, 23, 2))\n",
        "print(UTCDateTime(1299822383.2))"
      ]
    },
    {
      "cell_type": "code",
      "execution_count": null,
      "id": "f91b532c",
      "metadata": {
        "id": "f91b532c"
      },
      "outputs": [],
      "source": [
        "# Current time can be initialized by leaving out any arguments\n",
        "print(UTCDateTime())"
      ]
    },
    {
      "cell_type": "markdown",
      "id": "e2566748",
      "metadata": {
        "id": "e2566748"
      },
      "source": [
        "#### Attribute Access"
      ]
    },
    {
      "cell_type": "code",
      "execution_count": null,
      "id": "02b5e85e",
      "metadata": {
        "id": "02b5e85e"
      },
      "outputs": [],
      "source": [
        "time = UTCDateTime(\"2011-03-11T05:46:23.200000Z\")\n",
        "print(time.year)\n",
        "print(time.julday)\n",
        "print(time.timestamp)\n",
        "print(time.weekday)\n",
        "# try time.<Tab>"
      ]
    },
    {
      "cell_type": "markdown",
      "id": "666b967e",
      "metadata": {
        "id": "666b967e"
      },
      "source": [
        "#### Handling time differences\n",
        "\n",
        "* \"**`+`**/**`-`**\" defined to add seconds to an **`UTCDateTime`** object\n",
        "* \"**`-`**\" defined to get time difference of two **`UTCDateTime`** objects"
      ]
    },
    {
      "cell_type": "code",
      "execution_count": null,
      "id": "00918d4a",
      "metadata": {
        "id": "00918d4a"
      },
      "outputs": [],
      "source": [
        "time = UTCDateTime(\"2011-03-11T05:46:23.200000Z\")\n",
        "print(time)"
      ]
    },
    {
      "cell_type": "code",
      "execution_count": null,
      "id": "aeb58355",
      "metadata": {
        "id": "aeb58355"
      },
      "outputs": [],
      "source": [
        "# one hour later\n",
        "print(time + 3600)"
      ]
    },
    {
      "cell_type": "code",
      "execution_count": null,
      "id": "549d930c",
      "metadata": {
        "id": "549d930c"
      },
      "outputs": [],
      "source": [
        "time2 = UTCDateTime(2012, 1, 1)\n",
        "print(time2 - time)"
      ]
    },
    {
      "cell_type": "markdown",
      "id": "e629af68",
      "metadata": {
        "id": "e629af68"
      },
      "source": [
        "### Exercises\n",
        "\n",
        "Calculate the number of days passed since the Tohoku main shock (the timestamp used above)."
      ]
    },
    {
      "cell_type": "code",
      "execution_count": null,
      "id": "26489328",
      "metadata": {
        "id": "26489328",
        "lines_to_next_cell": 2,
        "tags": [
          "exercise"
        ]
      },
      "outputs": [],
      "source": []
    },
    {
      "cell_type": "code",
      "execution_count": null,
      "id": "a0ac5f81",
      "metadata": {
        "id": "a0ac5f81",
        "tags": [
          "solution"
        ]
      },
      "outputs": [],
      "source": [
        "print((UTCDateTime() - UTCDateTime(\"2011-03-11T05:46:23.200000Z\")) / 86400)"
      ]
    },
    {
      "cell_type": "markdown",
      "id": "b837c23a",
      "metadata": {
        "id": "b837c23a"
      },
      "source": [
        "Make a list of 10 UTCDateTime objects, starting today at 10:00 with a spacing of 90 minutes."
      ]
    },
    {
      "cell_type": "code",
      "execution_count": null,
      "id": "f056b587",
      "metadata": {
        "id": "f056b587",
        "lines_to_next_cell": 2,
        "tags": [
          "exercise"
        ]
      },
      "outputs": [],
      "source": []
    },
    {
      "cell_type": "code",
      "execution_count": null,
      "id": "eb1bcdd5",
      "metadata": {
        "id": "eb1bcdd5",
        "tags": [
          "solution"
        ]
      },
      "outputs": [],
      "source": [
        "t = UTCDateTime(2014, 2, 24, 10)\n",
        "\n",
        "times = []\n",
        "for i in range(10):\n",
        "    t2 = t + i * 90 * 60\n",
        "    times.append(t2)\n",
        "\n",
        "times"
      ]
    },
    {
      "cell_type": "markdown",
      "id": "13434ea6",
      "metadata": {
        "id": "13434ea6"
      },
      "source": [
        "Below is a list of strings with origin times of magnitude 8+ earthquakes since 2000 (fetched from IRIS). Assemble a list of interevent times in days. Use matplotlib to display a histogram."
      ]
    },
    {
      "cell_type": "code",
      "execution_count": null,
      "id": "e3125618",
      "metadata": {
        "id": "e3125618"
      },
      "outputs": [],
      "source": [
        "times = [\"2001-06-23T20:33:09\",\n",
        "         \"2003-09-25T19:50:07\",\n",
        "         \"2004-12-23T14:59:00\",\n",
        "         \"2004-12-26T00:58:52\",\n",
        "         \"2005-03-28T16:09:35\",\n",
        "         \"2006-06-01T18:57:02\",\n",
        "         \"2006-06-05T00:50:31\",\n",
        "         \"2006-11-15T11:14:14\",\n",
        "         \"2007-01-13T04:23:23\",\n",
        "         \"2007-04-01T20:39:56\",\n",
        "         \"2007-08-15T23:40:58\",\n",
        "         \"2007-09-12T11:10:26\",\n",
        "         \"2009-09-29T17:48:11\",\n",
        "         \"2010-02-27T06:34:13\",\n",
        "         \"2011-03-11T05:46:23\",\n",
        "         \"2012-04-11T08:38:36\",\n",
        "         \"2012-04-11T10:43:10\",\n",
        "         \"2013-05-24T05:44:48\"]"
      ]
    },
    {
      "cell_type": "code",
      "execution_count": null,
      "id": "56a1c853",
      "metadata": {
        "id": "56a1c853",
        "lines_to_next_cell": 2,
        "tags": [
          "exercise"
        ]
      },
      "outputs": [],
      "source": []
    },
    {
      "cell_type": "code",
      "execution_count": null,
      "id": "6c588bd4",
      "metadata": {
        "id": "6c588bd4",
        "tags": [
          "solution"
        ]
      },
      "outputs": [],
      "source": [
        "import matplotlib.pyplot as plt\n",
        "\n",
        "inter_event_times = []\n",
        "\n",
        "for i in range(1, len(times)):\n",
        "    dt = UTCDateTime(times[i]) - UTCDateTime(times[i-1])\n",
        "    dt = dt / (3600 * 24)\n",
        "    inter_event_times.append(dt)\n",
        "\n",
        "plt.hist(inter_event_times, bins=range(0, 1000, 100))\n",
        "plt.xlabel(\"Magnitude 8+ interevent times since 2000 [days]\")\n",
        "plt.ylabel(\"count\")\n",
        "plt.show()"
      ]
    }
  ],
  "metadata": {
    "colab": {
      "provenance": []
    },
    "jupytext": {
      "cell_metadata_json": true
    },
    "kernelspec": {
      "display_name": "Python 3",
      "language": "python",
      "name": "python3"
    }
  },
  "nbformat": 4,
  "nbformat_minor": 5
}
