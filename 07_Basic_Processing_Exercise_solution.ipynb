{
 "cells": [
  {
   "cell_type": "markdown",
   "id": "3a5bc5f4",
   "metadata": {},
   "source": [
    "<div style='background-image: url(\"../share/images/header.svg\") ; padding: 0px ; background-size: cover ; border-radius: 5px ; height: 250px'>\n",
    "    <div style=\"float: right ; margin: 50px ; padding: 20px ; background: rgba(255 , 255 , 255 , 0.7) ; width: 50% ; height: 150px\">\n",
    "        <div style=\"position: relative ; top: 50% ; transform: translatey(-50%)\">\n",
    "            <div style=\"font-size: xx-large ; font-weight: 900 ; color: rgba(0 , 0 , 0 , 0.8) ; line-height: 100%\">ObsPy Tutorial</div>\n",
    "            <div style=\"font-size: large ; padding-top: 20px ; color: rgba(0 , 0 , 0 , 0.5)\">Downloading/Processing Exercise</div>\n",
    "        </div>\n",
    "    </div>\n",
    "</div>"
   ]
  },
  {
   "cell_type": "markdown",
   "id": "bbe310cb",
   "metadata": {},
   "source": [
    "Seismo-Live: http://seismo-live.org\n",
    "\n",
    "##### Authors:\n",
    "* Lion Krischer ([@krischer](https://github.com/krischer))\n",
    "* Tobias Megies ([@megies](https://github.com/megies))\n",
    "---"
   ]
  },
  {
   "cell_type": "markdown",
   "id": "04b7e517",
   "metadata": {},
   "source": [
    "![](images/obspy_logo_full_524x179px.png)"
   ]
  },
  {
   "cell_type": "markdown",
   "id": "26faa0d1",
   "metadata": {},
   "source": [
    "For the this exercise we will download some data from the Tohoku-Oki earthquake, cut out a certain time window around the first arrival and remove the instrument response from the data."
   ]
  },
  {
   "cell_type": "code",
   "execution_count": null,
   "id": "50c74388",
   "metadata": {},
   "outputs": [],
   "source": [
    "%matplotlib inline\n",
    "import matplotlib.pyplot as plt\n",
    "plt.style.use('ggplot')\n",
    "plt.rcParams['figure.figsize'] = 12, 8"
   ]
  },
  {
   "cell_type": "markdown",
   "id": "9e3fcd90",
   "metadata": {},
   "source": [
    "The first step is to download all the necessary information using the ObsPy FDSN client. **Learn to read the documentation!**\n",
    "\n",
    "We need the following things:\n",
    "\n",
    "1. Event information about the Tohoku-Oki earthquake. Use the `get_events()` method of the client. A good provider of event data is the USGS.\n",
    "2. Waveform information for a certain station. Choose your favorite one! If you have no preference, use `II.BFO` which is available for example from IRIS. Use the `get_waveforms()` method.\n",
    "3. Download the associated station/instrument information with the `get_stations()` method."
   ]
  },
  {
   "cell_type": "code",
   "execution_count": null,
   "id": "cf2e3990",
   "metadata": {
    "lines_to_next_cell": 2,
    "tags": [
     "exercise"
    ]
   },
   "outputs": [],
   "source": []
  },
  {
   "cell_type": "code",
   "execution_count": null,
   "id": "d572b787",
   "metadata": {
    "tags": [
     "solution"
    ]
   },
   "outputs": [],
   "source": [
    "import obspy\n",
    "from obspy.clients.fdsn import Client\n",
    "\n",
    "c_event = Client(\"USGS\")\n",
    "\n",
    "# Event time.\n",
    "event_time = obspy.UTCDateTime(\"2011-03-11T05:46:23.2\")\n",
    "\n",
    "# Get the event information. The temporal and magnitude constraints make it unique\n",
    "# cat = c_event.get_events(starttime=event_time - 10, endtime=event_time + 10,\n",
    "                         minmagnitude=9)\n",
    "print(cat)\n",
    "\n",
    "c = Client(\"IRIS\")\n",
    "# Download station information at the response level!\n",
    "inv = c.get_stations(network=\"II\", station=\"BFO\", location=\"*\", channel=\"BH?\",\n",
    "                     starttime=event_time - 60, endtime=event_time + 3600,\n",
    "                     level=\"response\")\n",
    "print(inv)\n",
    "\n",
    "# Download 3 component waveforms.\n",
    "st = c.get_waveforms(network=\"II\", station=\"BFO\", location=\"*\",\n",
    "                     channel=\"BH?\", starttime=event_time - 60,\n",
    "                     endtime=event_time + 3600)\n",
    "print(st)"
   ]
  },
  {
   "cell_type": "markdown",
   "id": "865fcf52",
   "metadata": {},
   "source": [
    "Have a look at the just downloaded data."
   ]
  },
  {
   "cell_type": "code",
   "execution_count": null,
   "id": "0d5fe703",
   "metadata": {
    "lines_to_next_cell": 2,
    "tags": [
     "exercise"
    ]
   },
   "outputs": [],
   "source": []
  },
  {
   "cell_type": "code",
   "execution_count": null,
   "id": "0e68123f",
   "metadata": {
    "tags": [
     "solution"
    ]
   },
   "outputs": [],
   "source": [
    "inv.plot()\n",
    "inv.plot_response(0.001)\n",
    "cat.plot()\n",
    "st.plot()"
   ]
  },
  {
   "cell_type": "markdown",
   "id": "45b9ae75",
   "metadata": {},
   "source": [
    "## Exercise\n",
    "\n",
    "The goal of this exercise is to cut the data from 1 minute before the first arrival to 5 minutes after it, and then remove the instrument response.\n",
    "\n",
    "\n",
    "#### Step 1: Determine Coordinates of Station"
   ]
  },
  {
   "cell_type": "code",
   "execution_count": null,
   "id": "dd141d65",
   "metadata": {
    "lines_to_next_cell": 2,
    "tags": [
     "exercise"
    ]
   },
   "outputs": [],
   "source": []
  },
  {
   "cell_type": "code",
   "execution_count": null,
   "id": "9b0d1583",
   "metadata": {
    "tags": [
     "solution"
    ]
   },
   "outputs": [],
   "source": [
    "coords = inv.get_coordinates(\"II.BFO.00.BHE\")\n",
    "coords"
   ]
  },
  {
   "cell_type": "markdown",
   "id": "8a13fbfe",
   "metadata": {},
   "source": [
    "#### Step 2: Determine Coordinates of Event"
   ]
  },
  {
   "cell_type": "code",
   "execution_count": null,
   "id": "14823ff2",
   "metadata": {
    "lines_to_next_cell": 2,
    "tags": [
     "exercise"
    ]
   },
   "outputs": [],
   "source": []
  },
  {
   "cell_type": "code",
   "execution_count": null,
   "id": "e5baae50",
   "metadata": {
    "tags": [
     "solution"
    ]
   },
   "outputs": [],
   "source": [
    "origin = cat[0].preferred_origin()\n",
    "print(origin)"
   ]
  },
  {
   "cell_type": "markdown",
   "id": "2320c4bc",
   "metadata": {},
   "source": [
    "#### Step 3: Calculate distance of event and station.\n",
    "\n",
    "Use `obspy.geodetics.locations2degree`."
   ]
  },
  {
   "cell_type": "code",
   "execution_count": null,
   "id": "02acd7a5",
   "metadata": {
    "lines_to_next_cell": 2,
    "tags": [
     "exercise"
    ]
   },
   "outputs": [],
   "source": []
  },
  {
   "cell_type": "code",
   "execution_count": null,
   "id": "6df4e5a0",
   "metadata": {
    "tags": [
     "solution"
    ]
   },
   "outputs": [],
   "source": [
    "from obspy.geodetics import locations2degrees\n",
    "\n",
    "distance = locations2degrees(origin.latitude, origin.longitude,\n",
    "                             coords[\"latitude\"], coords[\"longitude\"])\n",
    "print(distance)"
   ]
  },
  {
   "cell_type": "markdown",
   "id": "c31586fc",
   "metadata": {},
   "source": [
    "#### Step 4: Calculate Theoretical Arrivals\n",
    "\n",
    "```python\n",
    "from obspy.taup import TauPyModel\n",
    "m = TauPyModel(model=\"ak135\")\n",
    "arrivals = m.get_ray_paths(...)\n",
    "arrivals.plot()\n",
    "```"
   ]
  },
  {
   "cell_type": "code",
   "execution_count": null,
   "id": "81c171e9",
   "metadata": {
    "lines_to_next_cell": 2,
    "tags": [
     "exercise"
    ]
   },
   "outputs": [],
   "source": []
  },
  {
   "cell_type": "code",
   "execution_count": null,
   "id": "07b9733c",
   "metadata": {
    "tags": [
     "solution"
    ]
   },
   "outputs": [],
   "source": [
    "from obspy.taup import TauPyModel\n",
    "\n",
    "m = TauPyModel(model=\"ak135\")\n",
    "\n",
    "arrivals = m.get_ray_paths(\n",
    "    distance_in_degree=distance,\n",
    "    source_depth_in_km=origin.depth / 1000.0)\n",
    "\n",
    "arrivals.plot();"
   ]
  },
  {
   "cell_type": "markdown",
   "id": "137a1617",
   "metadata": {},
   "source": [
    "#### Step 5: Calculate absolute time of the first arrivals at the station"
   ]
  },
  {
   "cell_type": "code",
   "execution_count": null,
   "id": "4f283754",
   "metadata": {
    "lines_to_next_cell": 2,
    "tags": [
     "exercise"
    ]
   },
   "outputs": [],
   "source": []
  },
  {
   "cell_type": "code",
   "execution_count": null,
   "id": "b6c85238",
   "metadata": {
    "tags": [
     "solution"
    ]
   },
   "outputs": [],
   "source": [
    "first_arrival = origin.time + arrivals[0].time\n",
    "\n",
    "print(first_arrival)"
   ]
  },
  {
   "cell_type": "markdown",
   "id": "b7c78ba0",
   "metadata": {},
   "source": [
    "#### Step 6:  Cut to 1 minute before and 5 minutes after the first arrival"
   ]
  },
  {
   "cell_type": "code",
   "execution_count": null,
   "id": "fdab0569",
   "metadata": {
    "lines_to_next_cell": 2,
    "tags": [
     "exercise"
    ]
   },
   "outputs": [],
   "source": []
  },
  {
   "cell_type": "code",
   "execution_count": null,
   "id": "f9ab1822",
   "metadata": {
    "tags": [
     "solution"
    ]
   },
   "outputs": [],
   "source": [
    "st.trim(first_arrival - 60, first_arrival + 300)\n",
    "st.plot();"
   ]
  },
  {
   "cell_type": "markdown",
   "id": "a5fa1b7f",
   "metadata": {},
   "source": [
    "#### Step 7: Remove the instrument response\n",
    "\n",
    "```python\n",
    "st.remove_response(inventory=inv, pre_filt=...)\n",
    "```\n",
    "\n",
    "![taper](images/cos_taper.png)"
   ]
  },
  {
   "cell_type": "code",
   "execution_count": null,
   "id": "578d2c53",
   "metadata": {
    "lines_to_next_cell": 2,
    "tags": [
     "exercise"
    ]
   },
   "outputs": [],
   "source": []
  },
  {
   "cell_type": "code",
   "execution_count": null,
   "id": "bb023d71",
   "metadata": {
    "tags": [
     "solution"
    ]
   },
   "outputs": [],
   "source": [
    "st.remove_response(inventory=inv, \n",
    "                   pre_filt=(1.0 / 100.0, 1.0 / 50.0, 10.0, 20.0),\n",
    "                   output=\"VEL\")\n",
    "st.plot()"
   ]
  },
  {
   "cell_type": "markdown",
   "id": "4e2e57c4",
   "metadata": {},
   "source": [
    "## Bonus: Interactive IPython widgets"
   ]
  },
  {
   "cell_type": "code",
   "execution_count": null,
   "id": "2a754faf",
   "metadata": {},
   "outputs": [],
   "source": [
    "from IPython.html.widgets import interact\n",
    "from obspy.taup import TauPyModel\n",
    "\n",
    "m = TauPyModel(\"ak135\")\n",
    "\n",
    "def plot_raypaths(distance, depth, wavetype):\n",
    "    try:\n",
    "        plt.close()\n",
    "    except:\n",
    "        pass\n",
    "    if wavetype == \"ttall\":\n",
    "        phases = [\"ttall\"]\n",
    "    elif wavetype == \"diff\":\n",
    "        phases = [\"Pdiff\", \"pPdiff\"]\n",
    "    m.get_ray_paths(distance_in_degree=distance,\n",
    "                    source_depth_in_km=depth,\n",
    "                    phase_list=phases).plot();\n",
    "    \n",
    "interact(plot_raypaths, distance=[0, 180],\n",
    "         depth=[0, 700], wavetype=[\"ttall\", \"diff\"]);"
   ]
  }
 ],
 "metadata": {
  "jupytext": {
   "cell_metadata_json": true
  },
  "kernelspec": {
   "display_name": "Python 3",
   "language": "python",
   "name": "python3"
  }
 },
 "nbformat": 4,
 "nbformat_minor": 5
}
