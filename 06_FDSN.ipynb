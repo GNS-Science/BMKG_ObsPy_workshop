{
  "cells": [
    {
      "cell_type": "markdown",
      "id": "3f85b7cd",
      "metadata": {
        "id": "3f85b7cd"
      },
      "source": [
        "<div style='background-image: url(\"../share/images/header.svg\") ; padding: 0px ; background-size: cover ; border-radius: 5px ; height: 250px'>\n",
        "    <div style=\"float: right ; margin: 50px ; padding: 20px ; background: rgba(255 , 255 , 255 , 0.7) ; width: 50% ; height: 150px\">\n",
        "        <div style=\"position: relative ; top: 50% ; transform: translatey(-50%)\">\n",
        "            <div style=\"font-size: xx-large ; font-weight: 900 ; color: rgba(0 , 0 , 0 , 0.8) ; line-height: 100%\">ObsPy Tutorial</div>\n",
        "            <div style=\"font-size: large ; padding-top: 20px ; color: rgba(0 , 0 , 0 , 0.5)\">Downloading Data</div>\n",
        "        </div>\n",
        "    </div>\n",
        "</div>"
      ]
    },
    {
      "cell_type": "markdown",
      "id": "f56d3ed2",
      "metadata": {
        "id": "f56d3ed2"
      },
      "source": [
        "Seismo-Live: http://seismo-live.org\n",
        "\n",
        "##### Authors:\n",
        "* Lion Krischer ([@krischer](https://github.com/krischer))\n",
        "* Tobias Megies ([@megies](https://github.com/megies))\n",
        "* Yannik Behr ([@yannikbehr](https://github.com/yannikbehr))\n",
        "---"
      ]
    },
    {
      "cell_type": "markdown",
      "id": "3792c2fa",
      "metadata": {
        "id": "3792c2fa"
      },
      "source": [
        "![](https://github.com/GNS-Science/BMKG_OBSPY_WORKSHOP/blob/main/images/obspy_logo_full_524x179px.png?raw=1)"
      ]
    },
    {
      "cell_type": "code",
      "source": [
        "try:\n",
        "  import obspy\n",
        "  import cartopy\n",
        "except ModuleNotFoundError:\n",
        "  !pip -qq install obspy cartopy"
      ],
      "metadata": {
        "id": "zsYut78Fb_Vi"
      },
      "id": "zsYut78Fb_Vi",
      "execution_count": null,
      "outputs": []
    },
    {
      "cell_type": "code",
      "execution_count": null,
      "id": "ed70d60d",
      "metadata": {
        "id": "ed70d60d"
      },
      "outputs": [],
      "source": [
        "import matplotlib.pyplot as plt\n",
        "plt.style.use('ggplot')\n",
        "plt.rcParams['figure.figsize'] = 12, 8"
      ]
    },
    {
      "cell_type": "markdown",
      "id": "2b6ae635",
      "metadata": {
        "id": "2b6ae635"
      },
      "source": [
        "ObsPy has clients to directly fetch data via...\n",
        "\n",
        "- FDSN webservices (IRIS, Geofon/GFZ, USGS, NCEDC, SeisComp3 instances, ...)\n",
        "- ArcLink (EIDA, ...)\n",
        "- Earthworm\n",
        "- SeedLink (near-realtime servers)\n",
        "- NERIES/NERA/seismicportal.eu\n",
        "- NEIC\n",
        "- SeisHub (local seismological database)\n",
        "\n",
        "This introduction shows how to use the FDSN webservice client. The FDSN webservice definition is by now the default web service implemented by many data centers world wide. Clients for other protocols work similar to the FDSN client.\n",
        "\n",
        "#### Waveform Data"
      ]
    },
    {
      "cell_type": "markdown",
      "source": [
        "Let's start by finding some interesting stations. We will have a look in Iris' massive waveform archive for stations around Krakatao. To do so you can use their [Google Map Service](https://ds.iris.edu/gmap). [This example](https://ds.iris.edu/gmap/#starttime=2024-12-09&maxlat=6.2353&maxlon=141.233&minlat=-12.9331&minlon=91.7506&network=*&drawingmode=box&networktype=permanent&planet=earth) shows one particular search.\n",
        "\n",
        "We will look at 4 stations:\n",
        "\n",
        "* GE.BBJI..LHZ\n",
        "* GE.MNAI..BHZ\n",
        "* GE.PMBI..BHZ\n",
        "* GE.SMRI..BHZ\n",
        "* GE.UGM..BHZ\n",
        "\n",
        "We retrieved the date of the tsunamigenic eruption on 22 December 2018 from the [Global Volcanism Program](https://volcano.si.edu/volcano.cfm?vn=262000)"
      ],
      "metadata": {
        "id": "l6SI9SswcRvo"
      },
      "id": "l6SI9SswcRvo"
    },
    {
      "cell_type": "code",
      "execution_count": null,
      "id": "91dc58d7",
      "metadata": {
        "id": "91dc58d7"
      },
      "outputs": [],
      "source": [
        "import os\n",
        "from obspy import UTCDateTime, Stream, read\n",
        "from obspy.clients.fdsn import Client\n",
        "\n",
        "fout = 'anak_krakatau_2018.mseed'\n",
        "if not os.path.isfile(fout):\n",
        "    client = Client(\"Geofon\")\n",
        "    t = UTCDateTime(\"2018-12-22T14:00:00\")  # Krakatau eruption 2018\n",
        "    st = Stream()\n",
        "    for station in [\"GE.BBJI\", \"GE.MNAI\", \"GE.PMBI\", \"GE.SMRI\", \"GE.UGM\"]:\n",
        "      net, stat = station.split(\".\")\n",
        "      st_ = client.get_waveforms(net, stat, \"*\", \"LHZ\",\n",
        "                                t, t + 2 * 60 * 60)\n",
        "      st_.write(f\"{station}..LHZ.mseed\", format='MSEED')\n",
        "      st += st_\n",
        "    st.write(fout, format='MSEED')\n",
        "else:\n",
        "  st = read(fout)\n",
        "\n",
        "print(st)\n",
        "st.plot()"
      ]
    },
    {
      "cell_type": "markdown",
      "id": "de549365",
      "metadata": {
        "id": "de549365"
      },
      "source": [
        "- again, waveform data is returned as a Stream object\n",
        "- for all custom processing workflows it does not matter if the data originates from a local file or from a web service\n",
        "\n",
        "#### Event Metadata\n",
        "\n",
        "The FDSN client can also be used to request event metadata:"
      ]
    },
    {
      "cell_type": "code",
      "execution_count": null,
      "id": "37483168",
      "metadata": {
        "id": "37483168"
      },
      "outputs": [],
      "source": [
        "t = UTCDateTime(\"2018-12-22T13:50:00\")\n",
        "client = Client(\"Geofon\")\n",
        "catalog = client.get_events(starttime=t, endtime=t + 3600,\n",
        "                            minmagnitude=2)\n",
        "print(catalog)\n",
        "catalog.plot();"
      ]
    },
    {
      "cell_type": "markdown",
      "id": "bb3e6f15",
      "metadata": {
        "id": "bb3e6f15"
      },
      "source": [
        "Requests can have a wide range of constraints (see [ObsPy Documentation](http://docs.obspy.org/packages/autogen/obspy.fdsn.client.Client.get_events.html)):\n",
        "\n",
        "- time range\n",
        "- geographical (lonlat-box, circular by distance)\n",
        "- depth range\n",
        "- magnitude range, type\n",
        "- contributing agency"
      ]
    },
    {
      "cell_type": "markdown",
      "id": "b410b027",
      "metadata": {
        "id": "b410b027"
      },
      "source": [
        "#### Station Metadata\n",
        "\n",
        "Finally, the FDSN client can be used to request station metadata. Stations can be looked up using a wide range of constraints (see [ObsPy documentation](http://docs.obspy.org/packages/autogen/obspy.fdsn.client.Client.get_stations.html)):\n",
        "\n",
        " * network/station code\n",
        " * time range of operation\n",
        " * geographical (lonlat-box, circular by distance)"
      ]
    },
    {
      "cell_type": "code",
      "execution_count": null,
      "id": "095399cd",
      "metadata": {
        "id": "095399cd"
      },
      "outputs": [],
      "source": [
        "event = catalog[-1]\n",
        "origin = event.origins[0]\n",
        "\n",
        "inventory = client.get_stations(longitude=origin.longitude, latitude=origin.latitude,\n",
        "                                maxradius=3.5, level=\"station\")\n",
        "print(inventory)"
      ]
    },
    {
      "cell_type": "markdown",
      "id": "e8790652",
      "metadata": {
        "id": "e8790652"
      },
      "source": [
        "The **`level=...`** keyword is used to specify the level of detail in the requested inventory\n",
        "\n",
        "- `\"network\"`: only return information on networks matching the criteria\n",
        "- `\"station\"`: return information on all matching stations\n",
        "- `\"channel\"`: return information on available channels in all stations networks matching the criteria\n",
        "- `\"response\"`: include instrument response for all matching channels (large result data size!)"
      ]
    },
    {
      "cell_type": "code",
      "execution_count": null,
      "id": "b4524634",
      "metadata": {
        "id": "b4524634"
      },
      "outputs": [],
      "source": [
        "inventory = client.get_stations(network=\"GE\", station=\"BBJI\",\n",
        "                                level=\"station\")\n",
        "print(inventory)"
      ]
    },
    {
      "cell_type": "code",
      "execution_count": null,
      "id": "20595523",
      "metadata": {
        "id": "20595523"
      },
      "outputs": [],
      "source": [
        "inventory = client.get_stations(network=\"GE\", station=\"BBJI\",\n",
        "                                level=\"channel\")\n",
        "print(inventory)"
      ]
    },
    {
      "cell_type": "markdown",
      "id": "6bd16f5f",
      "metadata": {
        "id": "6bd16f5f"
      },
      "source": [
        "For waveform requests that include instrument correction, the appropriate instrument response information can be attached to waveforms automatically:     \n",
        "(Of course, for work on large datasets, the better choice is to download all station information and avoid the internal repeated webservice requests)"
      ]
    },
    {
      "cell_type": "code",
      "execution_count": null,
      "id": "1069b379",
      "metadata": {
        "id": "1069b379"
      },
      "outputs": [],
      "source": [
        "t = UTCDateTime(\"2018-12-22T13:56:48\")  # Tohoku\n",
        "st = client.get_waveforms(\"GE\", \"BBJI\", \"*\", \"LHZ\",\n",
        "                          t, t + 10 * 60, attach_response=True)\n",
        "st.plot();\n",
        "\n",
        "st.remove_response()\n",
        "st.plot();"
      ]
    },
    {
      "cell_type": "markdown",
      "id": "2c5d44b4",
      "metadata": {
        "id": "2c5d44b4"
      },
      "source": [
        "All data requested using the FDSN client can be directly saved to file using the **`filename=\"...\"`** option. The data is then stored exactly as it is served by the data center, i.e. without first parsing by ObsPy and outputting by ObsPy."
      ]
    },
    {
      "cell_type": "code",
      "execution_count": null,
      "id": "43ef2002",
      "metadata": {
        "id": "43ef2002"
      },
      "outputs": [],
      "source": [
        "client.get_events(starttime=t-100, endtime=t+3600, minmagnitude=5,\n",
        "                  filename=\"/tmp/requested_events.xml\")\n",
        "client.get_stations(network=\"GE\", station=\"BBJI\", level=\"station\",\n",
        "                    filename=\"/tmp/requested_stations.xml\")\n",
        "client.get_waveforms(\"GE\", \"BBJI\", \"*\", \"LHZ\", t, t + 10 * 60,\n",
        "                     filename=\"/tmp/requested_waveforms.mseed\")\n",
        "!ls -lrt /tmp/requested*"
      ]
    },
    {
      "cell_type": "markdown",
      "id": "4424fc53",
      "metadata": {
        "id": "4424fc53"
      },
      "source": [
        "#### FDSN Client Exercise\n",
        "\n",
        "Use the FDSN client to assemble a waveform dataset for on event.\n",
        "\n",
        "- search for a large earthquake (e.g. by depth or in a region of your choice, use option **`limit=5`** to keep network traffic down)"
      ]
    },
    {
      "cell_type": "code",
      "execution_count": null,
      "id": "dd87ce76",
      "metadata": {
        "lines_to_next_cell": 2,
        "tags": [
          "exercise"
        ],
        "id": "dd87ce76"
      },
      "outputs": [],
      "source": []
    },
    {
      "cell_type": "code",
      "execution_count": null,
      "id": "f0c0235f",
      "metadata": {
        "tags": [
          "solution"
        ],
        "id": "f0c0235f"
      },
      "outputs": [],
      "source": []
    },
    {
      "cell_type": "markdown",
      "id": "1b08ae00",
      "metadata": {
        "id": "1b08ae00"
      },
      "source": [
        "- search for stations to look at waveforms for the event. stations should..\n",
        "    * be available at the time of the event\n",
        "    * have a vertical 1 Hz stream (\"LHZ\", to not overpower our network..)\n",
        "    * be in a narrow angular distance around the event (e.g. 90-91 degrees)\n",
        "    * adjust your search so that only a small number of stations (e.g. 3-6) match your search criteria"
      ]
    },
    {
      "cell_type": "code",
      "execution_count": null,
      "id": "8090f550",
      "metadata": {
        "lines_to_next_cell": 2,
        "tags": [
          "exercise"
        ],
        "id": "8090f550"
      },
      "outputs": [],
      "source": []
    },
    {
      "cell_type": "code",
      "execution_count": null,
      "id": "7b95f3bc",
      "metadata": {
        "tags": [
          "solution"
        ],
        "id": "7b95f3bc"
      },
      "outputs": [],
      "source": []
    },
    {
      "cell_type": "markdown",
      "id": "ac0964f9",
      "metadata": {
        "id": "ac0964f9"
      },
      "source": [
        "- for each of these stations download data of the event, e.g. a couple of minutes before to half an hour after the event\n",
        "- put all data together in one stream (put the `get_waveforms()` call in a try/except/pass block to silently skip stations that actually have no data available)\n",
        "- print stream info, plot the raw data"
      ]
    },
    {
      "cell_type": "code",
      "execution_count": null,
      "id": "4f3250bc",
      "metadata": {
        "lines_to_next_cell": 2,
        "tags": [
          "exercise"
        ],
        "id": "4f3250bc"
      },
      "outputs": [],
      "source": []
    },
    {
      "cell_type": "code",
      "execution_count": null,
      "id": "31154287",
      "metadata": {
        "tags": [
          "solution"
        ],
        "id": "31154287"
      },
      "outputs": [],
      "source": []
    },
    {
      "cell_type": "markdown",
      "id": "2c1cac64",
      "metadata": {
        "id": "2c1cac64"
      },
      "source": [
        "- correct the instrument response for all stations and plot the corrected data"
      ]
    },
    {
      "cell_type": "code",
      "execution_count": null,
      "id": "d4601042",
      "metadata": {
        "lines_to_next_cell": 2,
        "tags": [
          "exercise"
        ],
        "id": "d4601042"
      },
      "outputs": [],
      "source": []
    },
    {
      "cell_type": "code",
      "execution_count": null,
      "id": "8034f4c5",
      "metadata": {
        "tags": [
          "solution"
        ],
        "id": "8034f4c5"
      },
      "outputs": [],
      "source": []
    },
    {
      "cell_type": "markdown",
      "id": "77912b65",
      "metadata": {
        "id": "77912b65"
      },
      "source": [
        "If you have time, assemble and plot another similar dataset (e.g. like before stations at a certain distance from a big event, or use Transportable Array data for a big event, etc.)"
      ]
    }
  ],
  "metadata": {
    "jupytext": {
      "cell_metadata_json": true,
      "encoding": "# -*- coding: utf-8 -*-"
    },
    "kernelspec": {
      "display_name": "Python 3",
      "language": "python",
      "name": "python3"
    },
    "colab": {
      "provenance": []
    }
  },
  "nbformat": 4,
  "nbformat_minor": 5
}