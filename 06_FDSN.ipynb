{
  "cells": [
    {
      "cell_type": "markdown",
      "id": "fd0465bb",
      "metadata": {},
      "source": [
        "<img src=\"https://raw.githubusercontent.com/seismo-live/seismo_live/refs/heads/master/notebooks/Workshops/2017_Baku_STCU_IRIS_ObsPy_course/images/obspy_logo_full_524x179px.png\" width=90%> "
      ]
    },
    {
      "cell_type": "code",
      "execution_count": 1,
      "id": "zsYut78Fb_Vi",
      "metadata": {
        "id": "zsYut78Fb_Vi"
      },
      "outputs": [],
      "source": [
        "try:\n",
        "  import obspy\n",
        "  import cartopy\n",
        "except ModuleNotFoundError:\n",
        "  !pip -qq install obspy cartopy\n",
        "  import obspy\n",
        "  import cartopy"
      ]
    },
    {
      "cell_type": "code",
      "execution_count": 2,
      "id": "ed70d60d",
      "metadata": {
        "id": "ed70d60d"
      },
      "outputs": [],
      "source": [
        "import matplotlib.pyplot as plt\n",
        "plt.style.use('ggplot')\n",
        "plt.rcParams['figure.figsize'] = 12, 8"
      ]
    },
    {
      "cell_type": "markdown",
      "id": "2b6ae635",
      "metadata": {
        "id": "2b6ae635"
      },
      "source": [
        "ObsPy has clients to directly fetch data via...\n",
        "\n",
        "- FDSN webservices (IRIS, Geofon/GFZ, USGS, NCEDC, SeisComp3 instances, ...)\n",
        "- ArcLink (EIDA, ...)\n",
        "- Earthworm\n",
        "- SeedLink (near-realtime servers)\n",
        "- NERIES/NERA/seismicportal.eu\n",
        "- NEIC\n",
        "- SeisHub (local seismological database)\n",
        "\n",
        "This introduction shows how to use the FDSN webservice client. The FDSN webservice definition is by now the default web service implemented by many data centers world wide. Clients for other protocols work similar to the FDSN client.\n"
      ]
    },
    {
      "cell_type": "markdown",
      "id": "97728ec5",
      "metadata": {},
      "source": [
        "#### Station Metadata\n",
        "\n",
        "The FDSN client can be used to request station metadata. Stations can be looked up using a wide range of constraints (see [ObsPy documentation](http://docs.obspy.org/packages/autogen/obspy.fdsn.client.Client.get_stations.html)):\n",
        "\n",
        " * network/station code\n",
        " * time range of operation\n",
        " * geographical (lonlat-box, circular by distance)"
      ]
    },
    {
      "cell_type": "markdown",
      "id": "l6SI9SswcRvo",
      "metadata": {
        "id": "l6SI9SswcRvo"
      },
      "source": [
        "Let's start by finding some interesting stations. We will look at the tsunamigenic eruption on 22 December 2018. You can find the date from the [Global Volcanism Program](https://volcano.si.edu/volcano.cfm?vn=262000). We request station metadata from within 6 degrees of the event.\n",
        "\n"
      ]
    },
    {
      "cell_type": "code",
      "execution_count": null,
      "id": "44adb842",
      "metadata": {},
      "outputs": [],
      "source": [
        "from obspy import UTCDateTime\n",
        "from obspy.clients.fdsn import Client\n",
        "\n",
        "t = UTCDateTime(2018, 12, 22, 13, 55, 0)\n",
        "lon = 105.435 \n",
        "lat = -6.149\n",
        "\n",
        "client = Client(\"Geofon\")\n",
        "inventory = client.get_stations(\n",
        "    starttime=t-100, endtime=t+100,\n",
        "    longitude=lon, latitude=lat, maxradius=6,\n",
        "    matchtimeseries=None, level=\"station\")\n",
        "print(inventory)"
      ]
    },
    {
      "cell_type": "markdown",
      "id": "7606f10d",
      "metadata": {},
      "source": [
        "The **`level=...`** keyword is used to specify the level of detail in the requested inventory\n",
        "\n",
        "- `\"network\"`: only return information on networks matching the criteria\n",
        "- `\"station\"`: return information on all matching stations\n",
        "- `\"channel\"`: return information on available channels in all stations networks matching the criteria\n",
        "- `\"response\"`: include instrument response for all matching channels (large result data size!)"
      ]
    },
    {
      "cell_type": "markdown",
      "id": "82e71121",
      "metadata": {},
      "source": [
        "#### Waveform Data\n",
        "\n",
        "Only the stations from the GE network are openly available. In the following we will download the 1 Hz data from the following stations:\n",
        "\n",
        "* GE.BBJI..LHZ\n",
        "* GE.MNAI..BHZ\n",
        "* GE.PMBI..BHZ\n",
        "* GE.SMRI..BHZ\n",
        "* GE.UGM..BHZ\n"
      ]
    },
    {
      "cell_type": "code",
      "execution_count": null,
      "id": "91dc58d7",
      "metadata": {
        "id": "91dc58d7"
      },
      "outputs": [],
      "source": [
        "import os\n",
        "from obspy import UTCDateTime, Stream, read\n",
        "from obspy.clients.fdsn import Client\n",
        "\n",
        "fout = 'anak_krakatau_2018.mseed'\n",
        "if not os.path.isfile(fout):\n",
        "    client = Client(\"Geofon\")\n",
        "    st = Stream()\n",
        "    for station in [\"GE.BBJI\", \"GE.MNAI\", \"GE.PMBI\", \"GE.SMRI\", \"GE.UGM\"]:\n",
        "      net, stat = station.split(\".\")\n",
        "      st_ = client.get_waveforms(net, stat, \"*\", \"LHZ\",\n",
        "                                t, t + 10 * 60)\n",
        "      st_.write(f\"{station}..LHZ.mseed\", format='MSEED')\n",
        "      st += st_\n",
        "    st.write(fout, format='MSEED')\n",
        "else:\n",
        "  st = read(fout)\n",
        "\n",
        "print(st)\n",
        "st.plot();"
      ]
    },
    {
      "cell_type": "markdown",
      "id": "de549365",
      "metadata": {
        "id": "de549365"
      },
      "source": [
        "- again, waveform data is returned as a Stream object\n",
        "- for all custom processing workflows it does not matter if the data originates from a local file or from a web service\n",
        "\n"
      ]
    },
    {
      "cell_type": "markdown",
      "id": "7fa5bf55",
      "metadata": {},
      "source": [
        "For waveform requests that include instrument correction, the appropriate instrument response information can be attached to waveforms automatically:     \n",
        "(Of course, for work on large datasets, the better choice is to download all station information and avoid the internal repeated webservice requests)"
      ]
    },
    {
      "cell_type": "code",
      "execution_count": null,
      "id": "1069b379",
      "metadata": {
        "id": "1069b379"
      },
      "outputs": [],
      "source": [
        "t = UTCDateTime(\"2018-12-22T13:56:48\")  # Tohoku\n",
        "st = client.get_waveforms(\"GE\", \"BBJI\", \"*\", \"LHZ\",\n",
        "                          t, t + 10 * 60, attach_response=True)\n",
        "st.plot();\n",
        "\n",
        "st.remove_response()\n",
        "st.plot();"
      ]
    },
    {
      "cell_type": "markdown",
      "id": "96d74af1",
      "metadata": {},
      "source": [
        "#### Event Metadata\n",
        "\n",
        "The FDSN client can also be used to request event metadata:"
      ]
    },
    {
      "cell_type": "code",
      "execution_count": null,
      "id": "37483168",
      "metadata": {
        "id": "37483168"
      },
      "outputs": [],
      "source": [
        "t = UTCDateTime(\"2018-12-22T13:50:00\")\n",
        "client = Client(\"Geofon\")\n",
        "catalog = client.get_events(starttime=t, endtime=t + 3600,\n",
        "                            minmagnitude=2)\n",
        "print(catalog)\n",
        "catalog.plot();"
      ]
    },
    {
      "cell_type": "markdown",
      "id": "bb3e6f15",
      "metadata": {
        "id": "bb3e6f15"
      },
      "source": [
        "Requests can have a wide range of constraints (see [ObsPy Documentation](http://docs.obspy.org/packages/autogen/obspy.fdsn.client.Client.get_events.html)):\n",
        "\n",
        "- time range\n",
        "- geographical (lonlat-box, circular by distance)\n",
        "- depth range\n",
        "- magnitude range, type\n",
        "- contributing agency"
      ]
    },
    {
      "cell_type": "markdown",
      "id": "2c5d44b4",
      "metadata": {
        "id": "2c5d44b4"
      },
      "source": [
        "All data requested using the FDSN client can be directly saved to file using the **`filename=\"...\"`** option. The data is then stored exactly as it is served by the data center, i.e. without first parsing by ObsPy and outputting by ObsPy."
      ]
    },
    {
      "cell_type": "code",
      "execution_count": null,
      "id": "43ef2002",
      "metadata": {
        "id": "43ef2002"
      },
      "outputs": [],
      "source": [
        "client.get_events(starttime=t-100, endtime=t+3600, minmagnitude=5,\n",
        "                  filename=\"/tmp/requested_events.xml\")\n",
        "client.get_stations(network=\"GE\", station=\"BBJI\", level=\"response\",\n",
        "                    filename=\"/tmp/requested_stations.xml\")\n",
        "client.get_waveforms(\"GE\", \"BBJI\", \"*\", \"LHZ\", t, t + 10 * 60,\n",
        "                     filename=\"/tmp/requested_waveforms.mseed\")\n",
        "!ls -lrt /tmp/requested*"
      ]
    },
    {
      "cell_type": "markdown",
      "id": "4424fc53",
      "metadata": {
        "id": "4424fc53"
      },
      "source": [
        "#### FDSN Client Exercise\n",
        "\n",
        "Use the FDSN client to assemble a waveform dataset for on event.\n",
        "\n",
        "- search for a large earthquake (e.g. by depth or in a region of your choice, use option **`limit=5`** to keep network traffic down)"
      ]
    },
    {
      "cell_type": "code",
      "execution_count": null,
      "id": "dd87ce76",
      "metadata": {
        "id": "dd87ce76",
        "lines_to_next_cell": 2,
        "tags": [
          "exercise"
        ]
      },
      "outputs": [],
      "source": []
    },
    {
      "cell_type": "code",
      "execution_count": null,
      "id": "f0c0235f",
      "metadata": {
        "id": "f0c0235f",
        "tags": [
          "solution"
        ]
      },
      "outputs": [],
      "source": []
    },
    {
      "cell_type": "markdown",
      "id": "1b08ae00",
      "metadata": {
        "id": "1b08ae00"
      },
      "source": [
        "- search for stations to look at waveforms for the event. stations should..\n",
        "    * be available at the time of the event\n",
        "    * have a vertical 1 Hz stream (\"LHZ\", to not overpower our network..)\n",
        "    * be in a narrow angular distance around the event (e.g. 90-91 degrees)\n",
        "    * adjust your search so that only a small number of stations (e.g. 3-6) match your search criteria"
      ]
    },
    {
      "cell_type": "code",
      "execution_count": null,
      "id": "8090f550",
      "metadata": {
        "id": "8090f550",
        "lines_to_next_cell": 2,
        "tags": [
          "exercise"
        ]
      },
      "outputs": [],
      "source": []
    },
    {
      "cell_type": "code",
      "execution_count": null,
      "id": "7b95f3bc",
      "metadata": {
        "id": "7b95f3bc",
        "tags": [
          "solution"
        ]
      },
      "outputs": [],
      "source": []
    },
    {
      "cell_type": "markdown",
      "id": "ac0964f9",
      "metadata": {
        "id": "ac0964f9"
      },
      "source": [
        "- for each of these stations download data of the event, e.g. a couple of minutes before to half an hour after the event\n",
        "- put all data together in one stream (put the `get_waveforms()` call in a try/except/pass block to silently skip stations that actually have no data available)\n",
        "- print stream info, plot the raw data"
      ]
    },
    {
      "cell_type": "code",
      "execution_count": null,
      "id": "4f3250bc",
      "metadata": {
        "id": "4f3250bc",
        "lines_to_next_cell": 2,
        "tags": [
          "exercise"
        ]
      },
      "outputs": [],
      "source": []
    },
    {
      "cell_type": "code",
      "execution_count": null,
      "id": "31154287",
      "metadata": {
        "id": "31154287",
        "tags": [
          "solution"
        ]
      },
      "outputs": [],
      "source": []
    },
    {
      "cell_type": "markdown",
      "id": "2c1cac64",
      "metadata": {
        "id": "2c1cac64"
      },
      "source": [
        "- correct the instrument response for all stations and plot the corrected data"
      ]
    },
    {
      "cell_type": "code",
      "execution_count": null,
      "id": "d4601042",
      "metadata": {
        "id": "d4601042",
        "lines_to_next_cell": 2,
        "tags": [
          "exercise"
        ]
      },
      "outputs": [],
      "source": []
    },
    {
      "cell_type": "code",
      "execution_count": null,
      "id": "8034f4c5",
      "metadata": {
        "id": "8034f4c5",
        "tags": [
          "solution"
        ]
      },
      "outputs": [],
      "source": []
    },
    {
      "cell_type": "markdown",
      "id": "77912b65",
      "metadata": {
        "id": "77912b65"
      },
      "source": [
        "If you have time, assemble and plot another similar dataset (e.g. like before stations at a certain distance from a big event, or use Transportable Array data for a big event, etc.)"
      ]
    }
  ],
  "metadata": {
    "colab": {
      "provenance": []
    },
    "jupytext": {
      "cell_metadata_json": true,
      "encoding": "# -*- coding: utf-8 -*-"
    },
    "kernelspec": {
      "display_name": "Python 3",
      "language": "python",
      "name": "python3"
    },
    "language_info": {
      "codemirror_mode": {
        "name": "ipython",
        "version": 3
      },
      "file_extension": ".py",
      "mimetype": "text/x-python",
      "name": "python",
      "nbconvert_exporter": "python",
      "pygments_lexer": "ipython3",
      "version": "3.9.16"
    }
  },
  "nbformat": 4,
  "nbformat_minor": 5
}
