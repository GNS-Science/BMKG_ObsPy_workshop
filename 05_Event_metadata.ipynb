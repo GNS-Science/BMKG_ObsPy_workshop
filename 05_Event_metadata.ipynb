{
  "cells": [
    {
      "cell_type": "markdown",
      "id": "ae00ade4",
      "metadata": {
        "id": "ae00ade4"
      },
      "source": [
        "![](https://github.com/yannikbehr/BMKG_OBSPY_WORKSHOP/blob/main/images/obspy_logo_full_524x179px.png?raw=1)"
      ]
    },
    {
      "cell_type": "markdown",
      "id": "8b953080",
      "metadata": {},
      "source": [
        "<img src=\"https://raw.githubusercontent.com/seismo-live/seismo_live/refs/heads/master/notebooks/Workshops/2017_Baku_STCU_IRIS_ObsPy_course/images/obspy_logo_full_524x179px.png\" width=90%> "
      ]
    },
    {
      "cell_type": "code",
      "execution_count": null,
      "id": "9Q7mX1p1YXn1",
      "metadata": {
        "id": "9Q7mX1p1YXn1"
      },
      "outputs": [],
      "source": [
        "try:\n",
        "  import obspy\n",
        "  import cartopy\n",
        "except ModuleNotFoundError:\n",
        "  !pip -qq install obspy cartopy\n",
        "  import obspy\n",
        "  import cartopy"
      ]
    },
    {
      "cell_type": "code",
      "execution_count": null,
      "id": "314cb5f0",
      "metadata": {
        "id": "314cb5f0"
      },
      "outputs": [],
      "source": [
        "import matplotlib.pyplot as plt\n",
        "plt.style.use('ggplot')\n",
        "plt.rcParams['figure.figsize'] = 12, 8"
      ]
    },
    {
      "cell_type": "markdown",
      "id": "feaae596",
      "metadata": {
        "id": "feaae596"
      },
      "source": [
        "- for event metadata, the de-facto standard is [QuakeML (an xml document structure)](https://quake.ethz.ch/quakeml/)\n",
        "- QuakeML files can be read using **`read_events()`**"
      ]
    },
    {
      "cell_type": "code",
      "execution_count": null,
      "id": "lF9C91pASn0o",
      "metadata": {
        "id": "lF9C91pASn0o"
      },
      "outputs": [],
      "source": [
        "! mkdir data\n",
        "! wget https://raw.githubusercontent.com/seismo-live/seismo_live/refs/heads/master/notebooks/Workshops/2017_Baku_STCU_IRIS_ObsPy_course/data/event_tohoku_with_big_aftershocks.xml -O data/event_tohoku_with_big_aftershocks.xml"
      ]
    },
    {
      "cell_type": "code",
      "execution_count": null,
      "id": "c7f1cda9",
      "metadata": {
        "id": "c7f1cda9"
      },
      "outputs": [],
      "source": [
        "from obspy import read_events\n",
        "\n",
        "catalog = read_events(\"./data/event_tohoku_with_big_aftershocks.xml\")\n",
        "print(catalog)"
      ]
    },
    {
      "cell_type": "markdown",
      "id": "50d5eac1",
      "metadata": {
        "id": "50d5eac1"
      },
      "source": [
        "- **`read_events()`** function returns a **`Catalog`** object, which is\n",
        "a collection of **`Event`** objects."
      ]
    },
    {
      "cell_type": "code",
      "execution_count": null,
      "id": "43777b6b",
      "metadata": {
        "id": "43777b6b"
      },
      "outputs": [],
      "source": [
        "print(type(catalog))\n",
        "print(type(catalog[0]))"
      ]
    },
    {
      "cell_type": "code",
      "execution_count": null,
      "id": "5f96f4c3",
      "metadata": {
        "id": "5f96f4c3"
      },
      "outputs": [],
      "source": [
        "event = catalog[0]\n",
        "print(event)"
      ]
    },
    {
      "cell_type": "markdown",
      "id": "70a7137a",
      "metadata": {
        "id": "70a7137a"
      },
      "source": [
        "- Event objects are again collections of other resources.\n",
        "- the nested ObsPy Event class structure (Catalog/Event/Origin/Magnitude/FocalMechanism/...) is closely modelled after QuakeML\n",
        "<img src=\"https://raw.githubusercontent.com/seismo-live/seismo_live/refs/heads/master/notebooks/Workshops/2017_Baku_STCU_IRIS_ObsPy_course/images/Event.svg\" width=90%>"
      ]
    },
    {
      "cell_type": "code",
      "execution_count": null,
      "id": "148587fa",
      "metadata": {
        "id": "148587fa"
      },
      "outputs": [],
      "source": [
        "print(type(event.origins))\n",
        "print(type(event.origins[0]))\n",
        "print(event.origins[0])"
      ]
    },
    {
      "cell_type": "code",
      "execution_count": null,
      "id": "21ec6f23",
      "metadata": {
        "id": "21ec6f23"
      },
      "outputs": [],
      "source": [
        "print(type(event.magnitudes))\n",
        "print(type(event.magnitudes[0]))\n",
        "print(event.magnitudes[0])"
      ]
    },
    {
      "cell_type": "code",
      "execution_count": null,
      "id": "85a4d1e8",
      "metadata": {
        "id": "85a4d1e8"
      },
      "outputs": [],
      "source": [
        "# try event.<Tab> to get an idea what \"children\" elements event has"
      ]
    },
    {
      "cell_type": "markdown",
      "id": "946cdaed",
      "metadata": {
        "id": "946cdaed"
      },
      "source": [
        "- The Catalog object contains some convenience methods to make\n",
        "working with events easier.\n",
        "- for example, the included events can be filtered with various keys."
      ]
    },
    {
      "cell_type": "code",
      "execution_count": null,
      "id": "04e0fe52",
      "metadata": {
        "id": "04e0fe52"
      },
      "outputs": [],
      "source": [
        "largest_magnitude_events = catalog.filter(\"magnitude >= 7.8\")\n",
        "print(largest_magnitude_events)"
      ]
    },
    {
      "cell_type": "markdown",
      "id": "7e9c1689",
      "metadata": {
        "id": "7e9c1689"
      },
      "source": [
        "- There is a basic preview plot using the matplotlib basemap module."
      ]
    },
    {
      "cell_type": "code",
      "execution_count": null,
      "id": "e22ba076",
      "metadata": {
        "id": "e22ba076"
      },
      "outputs": [],
      "source": [
        "catalog.plot(projection=\"local\");"
      ]
    },
    {
      "cell_type": "markdown",
      "id": "fab0b77d",
      "metadata": {
        "id": "fab0b77d"
      },
      "source": [
        "- a (modified) Catalog can be output to file (currently there is write support for QuakeML only)"
      ]
    },
    {
      "cell_type": "code",
      "execution_count": null,
      "id": "094fc1a9",
      "metadata": {
        "id": "094fc1a9"
      },
      "outputs": [],
      "source": [
        "largest_magnitude_events.write(\"/tmp/large_events.xml\", format=\"QUAKEML\")\n",
        "!ls -l /tmp/large_events.xml"
      ]
    },
    {
      "cell_type": "markdown",
      "id": "5df6f791",
      "metadata": {
        "id": "5df6f791"
      },
      "source": [
        "- the event type classes can be used to build up Events/Catalogs/Picks/.. from scratch in custom processing work flows and to share them with other researchers in the de facto standard format QuakeML"
      ]
    },
    {
      "cell_type": "code",
      "execution_count": null,
      "id": "1b7ac554",
      "metadata": {
        "id": "1b7ac554"
      },
      "outputs": [],
      "source": [
        "from obspy import UTCDateTime\n",
        "from obspy.core.event import Catalog, Event, Origin, Magnitude\n",
        "from obspy.geodetics import FlinnEngdahl\n",
        "\n",
        "cat = Catalog()\n",
        "cat.description = \"Just a fictitious toy example catalog built from scratch\"\n",
        "\n",
        "e = Event()\n",
        "e.event_type = \"not existing\"\n",
        "\n",
        "o = Origin()\n",
        "o.time = UTCDateTime(2014, 2, 23, 18, 0, 0)\n",
        "o.latitude = 47.6\n",
        "o.longitude = 12.0\n",
        "o.depth = 10000\n",
        "o.depth_type = \"operator assigned\"\n",
        "o.evaluation_mode = \"manual\"\n",
        "o.evaluation_status = \"preliminary\"\n",
        "o.region = FlinnEngdahl().get_region(o.longitude, o.latitude)\n",
        "\n",
        "m = Magnitude()\n",
        "m.mag = 7.2\n",
        "m.magnitude_type = \"Mw\"\n",
        "\n",
        "m2 = Magnitude()\n",
        "m2.mag = 7.4\n",
        "m2.magnitude_type = \"Ms\"\n",
        "\n",
        "# also included could be: custom picks, amplitude measurements, station magnitudes,\n",
        "# focal mechanisms, moment tensors, ...\n",
        "\n",
        "# make associations, put everything together\n",
        "cat.append(e)\n",
        "e.origins = [o]\n",
        "e.magnitudes = [m, m2]\n",
        "m.origin_id = o.resource_id\n",
        "m2.origin_id = o.resource_id\n",
        "\n",
        "print(cat)\n",
        "cat.write(\"/tmp/my_custom_events.xml\", format=\"QUAKEML\")\n",
        "!cat /tmp/my_custom_events.xml"
      ]
    }
  ],
  "metadata": {
    "colab": {
      "provenance": []
    },
    "kernelspec": {
      "display_name": "Python 3",
      "language": "python",
      "name": "python3"
    }
  },
  "nbformat": 4,
  "nbformat_minor": 5
}
